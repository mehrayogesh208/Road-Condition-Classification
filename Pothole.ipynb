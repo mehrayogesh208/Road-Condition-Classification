{
 "cells": [
  {
   "cell_type": "markdown",
   "metadata": {},
   "source": [
    "# Pothole Classification"
   ]
  },
  {
   "cell_type": "markdown",
   "metadata": {},
   "source": [
    "In this notebook we will try to analyze the data inorder to draw various insights from the data,which will help us in bringing a machine learning solution that will classify  whether the pothole is present or not."
   ]
  },
  {
   "cell_type": "markdown",
   "metadata": {},
   "source": [
    "<h4> Data overview </h4>"
   ]
  },
  {
   "cell_type": "raw",
   "metadata": {},
   "source": [
    "There are two files for each of the five trips:-\n",
    "    1.) sensors.csv\n",
    "    2.) potholes.csv\n",
    "sensors.csv contains the following features:\n",
    "    1.)timestamp\n",
    "    2.)latitude\n",
    "    3.)longitude\n",
    "    4.)speed\n",
    "    5.)accelerometerX\n",
    "    6.)accelerometerY\n",
    "    7.)accelerometerZ\n",
    "    8.)gyroX\n",
    "    9.)gyroY\n",
    "    10.)gyroZ\n",
    "    \n",
    "potholes.csv contains the timestamps at which potholes were marked during data collection"
   ]
  },
  {
   "cell_type": "code",
   "execution_count": 1,
   "metadata": {},
   "outputs": [],
   "source": [
    "#Importing various libraries\n",
    "import pandas as pd\n",
    "import numpy as np\n",
    "import warnings\n",
    "warnings.filterwarnings('ignore')"
   ]
  },
  {
   "cell_type": "code",
   "execution_count": 2,
   "metadata": {},
   "outputs": [],
   "source": [
    "df_sensor = pd.read_csv('data/sensors.csv')\n",
    "df_pothole = pd.read_csv('data/potholes.csv')"
   ]
  },
  {
   "cell_type": "code",
   "execution_count": 3,
   "metadata": {},
   "outputs": [
    {
     "data": {
      "text/html": [
       "<div>\n",
       "<style scoped>\n",
       "    .dataframe tbody tr th:only-of-type {\n",
       "        vertical-align: middle;\n",
       "    }\n",
       "\n",
       "    .dataframe tbody tr th {\n",
       "        vertical-align: top;\n",
       "    }\n",
       "\n",
       "    .dataframe thead th {\n",
       "        text-align: right;\n",
       "    }\n",
       "</style>\n",
       "<table border=\"1\" class=\"dataframe\">\n",
       "  <thead>\n",
       "    <tr style=\"text-align: right;\">\n",
       "      <th></th>\n",
       "      <th>timestamp</th>\n",
       "      <th>latitude</th>\n",
       "      <th>longitude</th>\n",
       "      <th>speed</th>\n",
       "      <th>accelerometerX</th>\n",
       "      <th>accelerometerY</th>\n",
       "      <th>accelerometerZ</th>\n",
       "      <th>gyroX</th>\n",
       "      <th>gyroY</th>\n",
       "      <th>gyroZ</th>\n",
       "    </tr>\n",
       "  </thead>\n",
       "  <tbody>\n",
       "    <tr>\n",
       "      <td>0</td>\n",
       "      <td>1.493004e+09</td>\n",
       "      <td>40.447526</td>\n",
       "      <td>-79.944193</td>\n",
       "      <td>0.0</td>\n",
       "      <td>0.217667</td>\n",
       "      <td>-0.980042</td>\n",
       "      <td>0.158340</td>\n",
       "      <td>0.032960</td>\n",
       "      <td>0.048734</td>\n",
       "      <td>0.107899</td>\n",
       "    </tr>\n",
       "    <tr>\n",
       "      <td>1</td>\n",
       "      <td>1.493004e+09</td>\n",
       "      <td>40.447526</td>\n",
       "      <td>-79.944193</td>\n",
       "      <td>0.0</td>\n",
       "      <td>0.011353</td>\n",
       "      <td>-0.946930</td>\n",
       "      <td>0.212097</td>\n",
       "      <td>0.023599</td>\n",
       "      <td>-0.087376</td>\n",
       "      <td>0.017527</td>\n",
       "    </tr>\n",
       "    <tr>\n",
       "      <td>2</td>\n",
       "      <td>1.493004e+09</td>\n",
       "      <td>40.447526</td>\n",
       "      <td>-79.944193</td>\n",
       "      <td>0.0</td>\n",
       "      <td>0.023651</td>\n",
       "      <td>-0.956955</td>\n",
       "      <td>0.208115</td>\n",
       "      <td>-0.009587</td>\n",
       "      <td>0.005381</td>\n",
       "      <td>0.003087</td>\n",
       "    </tr>\n",
       "    <tr>\n",
       "      <td>3</td>\n",
       "      <td>1.493004e+09</td>\n",
       "      <td>40.447526</td>\n",
       "      <td>-79.944193</td>\n",
       "      <td>0.0</td>\n",
       "      <td>0.061081</td>\n",
       "      <td>-0.956085</td>\n",
       "      <td>0.201462</td>\n",
       "      <td>-0.014854</td>\n",
       "      <td>0.001160</td>\n",
       "      <td>-0.003354</td>\n",
       "    </tr>\n",
       "    <tr>\n",
       "      <td>4</td>\n",
       "      <td>1.493004e+09</td>\n",
       "      <td>40.447526</td>\n",
       "      <td>-79.944193</td>\n",
       "      <td>0.0</td>\n",
       "      <td>0.070160</td>\n",
       "      <td>-0.956467</td>\n",
       "      <td>0.194504</td>\n",
       "      <td>-0.012799</td>\n",
       "      <td>-0.000980</td>\n",
       "      <td>0.000938</td>\n",
       "    </tr>\n",
       "  </tbody>\n",
       "</table>\n",
       "</div>"
      ],
      "text/plain": [
       "      timestamp   latitude  longitude  speed  accelerometerX  accelerometerY  \\\n",
       "0  1.493004e+09  40.447526 -79.944193    0.0        0.217667       -0.980042   \n",
       "1  1.493004e+09  40.447526 -79.944193    0.0        0.011353       -0.946930   \n",
       "2  1.493004e+09  40.447526 -79.944193    0.0        0.023651       -0.956955   \n",
       "3  1.493004e+09  40.447526 -79.944193    0.0        0.061081       -0.956085   \n",
       "4  1.493004e+09  40.447526 -79.944193    0.0        0.070160       -0.956467   \n",
       "\n",
       "   accelerometerZ     gyroX     gyroY     gyroZ  \n",
       "0        0.158340  0.032960  0.048734  0.107899  \n",
       "1        0.212097  0.023599 -0.087376  0.017527  \n",
       "2        0.208115 -0.009587  0.005381  0.003087  \n",
       "3        0.201462 -0.014854  0.001160 -0.003354  \n",
       "4        0.194504 -0.012799 -0.000980  0.000938  "
      ]
     },
     "execution_count": 3,
     "metadata": {},
     "output_type": "execute_result"
    }
   ],
   "source": [
    "df_sensor.head(5)"
   ]
  },
  {
   "cell_type": "raw",
   "metadata": {},
   "source": [
    "During the data collection it was seen that 2 seconds are enough for detecting a pothole.\n",
    "Grouping the points into intervals of 2 second (Our app recorded 5 points per seocnd), So each \n",
    "interval will have 10 data points."
   ]
  },
  {
   "cell_type": "raw",
   "metadata": {},
   "source": [
    "The raw features will contain many noisy information so lets perform some feature engineering."
   ]
  },
  {
   "cell_type": "raw",
   "metadata": {},
   "source": [
    "For each interval we will calculate:\n",
    "    1.) meanSpeed\n",
    "    2.) sdSpeed\n",
    "    3.) maxAccelX\n",
    "    4.) maxAccelY\n",
    "    5.) maxAccelZ\n",
    "    6.) maxGyroX\n",
    "    7.) maxGyroY\n",
    "    8.) maxGyroZ\n",
    "    9.) minAccelX\n",
    "    10.) minAccelY\n",
    "    11.) minAccelZ\n",
    "    12.) minGyroX\n",
    "    13.) minGyroY\n",
    "    14.) minGyroZ\n",
    "    15.) meanAccelX\n",
    "    16.) meanAccelY\n",
    "    17.) meanAccelZ\n",
    "    18.) meanGyroX\n",
    "    19.) meanGyroY\n",
    "    20.) meanGyroZ\n",
    "    21.) sdAccelX\n",
    "    22.) sdAccelY\n",
    "    23.) sdAccelZ\n",
    "    24.) sdGyroX\n",
    "    25.) sdGyroY\n",
    "    26.) sdGyroZ\n",
    "    27.) pothole (True/False)"
   ]
  },
  {
   "cell_type": "code",
   "execution_count": 4,
   "metadata": {},
   "outputs": [],
   "source": [
    "def isPothole(start,end,df_pothole):\n",
    "    timestamp = df_pothole['timestamp']\n",
    "    for time in timestamp:\n",
    "        if start < time and time <= end:\n",
    "            return True\n",
    "    return False\n",
    "    \n",
    "\n",
    "    "
   ]
  },
  {
   "cell_type": "code",
   "execution_count": null,
   "metadata": {},
   "outputs": [],
   "source": []
  },
  {
   "cell_type": "code",
   "execution_count": 5,
   "metadata": {},
   "outputs": [],
   "source": [
    "def convert_to_interval(df_sensor,df_pothole):\n",
    "    len_sensor = len(df_sensor)\n",
    "    data = list()\n",
    "    for k in range(0,len_sensor,10):\n",
    "        current_interval = df_sensor[k:k+10]\n",
    "        meanSpeed = current_interval['speed'].mean()\n",
    "        sdSpeed = current_interval['speed'].std()\n",
    "        maxAccelX = max(current_interval['accelerometerX'])\n",
    "        maxAccelY = max(current_interval['accelerometerY'])\n",
    "        maxAccelZ = max(current_interval['accelerometerZ'])\n",
    "        maxGyroX = max(current_interval['gyroX'])\n",
    "        maxGyroY = max(current_interval['gyroY'])\n",
    "        maxGyroZ = max(current_interval['gyroZ'])\n",
    "        minAccelX = min(current_interval['accelerometerX'])\n",
    "        minAccelY = min(current_interval['accelerometerY'])\n",
    "        minAccelZ = min(current_interval['accelerometerZ'])\n",
    "        minGyroX = min(current_interval['gyroX'])\n",
    "        minGyroY = min(current_interval['gyroY'])\n",
    "        minGyroZ = min(current_interval['gyroZ'])\n",
    "        meanAccelX = current_interval['accelerometerX'].mean()\n",
    "        meanAccelY = current_interval['accelerometerY'].mean()\n",
    "        meanAccelZ = current_interval['accelerometerZ'].mean()\n",
    "        sdAccelX = current_interval['accelerometerX'].std()\n",
    "        sdAccelY = current_interval['accelerometerY'].std()\n",
    "        sdAccelZ = current_interval['accelerometerZ'].std()\n",
    "        meanGyroX = current_interval['gyroX'].mean()\n",
    "        meanGyroY = current_interval['gyroY'].mean()\n",
    "        meanGyroZ = current_interval['gyroZ'].mean()\n",
    "        sdGyroX = current_interval['gyroX'].std()\n",
    "        sdGyroY = current_interval['gyroY'].std()\n",
    "        sdGyroZ = current_interval['gyroZ'].std()\n",
    "        pothole = isPothole(list(current_interval['timestamp'])[0],list(current_interval['timestamp'])[-1],df_pothole)\n",
    "        datapoint = [meanSpeed, sdSpeed, maxAccelX, maxAccelY, maxAccelZ, maxGyroX, maxGyroY, \n",
    "                           maxGyroZ, minAccelX, minAccelY, minAccelZ, minGyroX, minGyroY, minGyroZ, \n",
    "                           meanAccelX, meanAccelY, meanAccelZ, meanGyroX, meanGyroY, meanGyroZ,\n",
    "                           sdAccelX, sdAccelY, sdAccelZ, sdGyroX, sdGyroY, sdGyroZ, pothole]\n",
    "        data.append(datapoint)\n",
    "    df = pd.DataFrame.from_records(data)\n",
    "    df.columns = [\"meanSpeed\", \"sdSpeed\", \"maxAccelX\", \"maxAccelY\", \"maxAccelZ\", \"maxGyroX\", \"maxGyroY\", \n",
    "                           \"maxGyroZ\", \"minAccelX\", \"minAccelY\", \"minAccelZ\", \"minGyroX\", \"minGyroY\", \"minGyroZ\", \n",
    "                           \"meanAccelX\", \"meanAccelY\", \"meanAccelZ\", \"meanGyroX\", \"meanGyroY\", \"meanGyroZ\",\n",
    "                           \"sdAccelX\", \"sdAccelY\", \"sdAccelZ\", \"sdGyroX\", \"sdGyroY\", \"sdGyroZ\", \"pothole\"]\n",
    "    \n",
    "    return df\n",
    "    \n",
    "\n",
    "\n",
    "    \n",
    "    \n",
    "    \n",
    "    \n",
    "    \n",
    "    \n",
    "    \n",
    "    \n",
    "    \n",
    "    \n",
    "    \n",
    "    \n",
    "    \n",
    "    \n",
    "    \n",
    "    "
   ]
  },
  {
   "cell_type": "code",
   "execution_count": 6,
   "metadata": {},
   "outputs": [
    {
     "data": {
      "text/html": [
       "<div>\n",
       "<style scoped>\n",
       "    .dataframe tbody tr th:only-of-type {\n",
       "        vertical-align: middle;\n",
       "    }\n",
       "\n",
       "    .dataframe tbody tr th {\n",
       "        vertical-align: top;\n",
       "    }\n",
       "\n",
       "    .dataframe thead th {\n",
       "        text-align: right;\n",
       "    }\n",
       "</style>\n",
       "<table border=\"1\" class=\"dataframe\">\n",
       "  <thead>\n",
       "    <tr style=\"text-align: right;\">\n",
       "      <th></th>\n",
       "      <th>meanSpeed</th>\n",
       "      <th>sdSpeed</th>\n",
       "      <th>maxAccelX</th>\n",
       "      <th>maxAccelY</th>\n",
       "      <th>maxAccelZ</th>\n",
       "      <th>maxGyroX</th>\n",
       "      <th>maxGyroY</th>\n",
       "      <th>maxGyroZ</th>\n",
       "      <th>minAccelX</th>\n",
       "      <th>minAccelY</th>\n",
       "      <th>...</th>\n",
       "      <th>meanGyroX</th>\n",
       "      <th>meanGyroY</th>\n",
       "      <th>meanGyroZ</th>\n",
       "      <th>sdAccelX</th>\n",
       "      <th>sdAccelY</th>\n",
       "      <th>sdAccelZ</th>\n",
       "      <th>sdGyroX</th>\n",
       "      <th>sdGyroY</th>\n",
       "      <th>sdGyroZ</th>\n",
       "      <th>pothole</th>\n",
       "    </tr>\n",
       "  </thead>\n",
       "  <tbody>\n",
       "    <tr>\n",
       "      <td>0</td>\n",
       "      <td>0.041</td>\n",
       "      <td>0.129653</td>\n",
       "      <td>0.053787</td>\n",
       "      <td>-0.936584</td>\n",
       "      <td>0.295486</td>\n",
       "      <td>-0.007371</td>\n",
       "      <td>0.019259</td>\n",
       "      <td>0.007240</td>\n",
       "      <td>0.016998</td>\n",
       "      <td>-0.963852</td>\n",
       "      <td>...</td>\n",
       "      <td>-0.020783</td>\n",
       "      <td>-0.001779</td>\n",
       "      <td>0.000218</td>\n",
       "      <td>0.011710</td>\n",
       "      <td>0.009103</td>\n",
       "      <td>0.040247</td>\n",
       "      <td>0.010819</td>\n",
       "      <td>0.008888</td>\n",
       "      <td>0.003437</td>\n",
       "      <td>False</td>\n",
       "    </tr>\n",
       "    <tr>\n",
       "      <td>1</td>\n",
       "      <td>1.364</td>\n",
       "      <td>1.024057</td>\n",
       "      <td>0.120621</td>\n",
       "      <td>-0.875656</td>\n",
       "      <td>0.398834</td>\n",
       "      <td>0.022393</td>\n",
       "      <td>0.006554</td>\n",
       "      <td>0.033050</td>\n",
       "      <td>0.026840</td>\n",
       "      <td>-0.943787</td>\n",
       "      <td>...</td>\n",
       "      <td>-0.022780</td>\n",
       "      <td>-0.018999</td>\n",
       "      <td>-0.003276</td>\n",
       "      <td>0.031252</td>\n",
       "      <td>0.022495</td>\n",
       "      <td>0.028734</td>\n",
       "      <td>0.020178</td>\n",
       "      <td>0.019851</td>\n",
       "      <td>0.014961</td>\n",
       "      <td>False</td>\n",
       "    </tr>\n",
       "    <tr>\n",
       "      <td>2</td>\n",
       "      <td>4.436</td>\n",
       "      <td>1.351158</td>\n",
       "      <td>0.120605</td>\n",
       "      <td>-0.906296</td>\n",
       "      <td>0.404266</td>\n",
       "      <td>-0.010554</td>\n",
       "      <td>0.051599</td>\n",
       "      <td>0.018975</td>\n",
       "      <td>0.033325</td>\n",
       "      <td>-0.988800</td>\n",
       "      <td>...</td>\n",
       "      <td>-0.032363</td>\n",
       "      <td>-0.011066</td>\n",
       "      <td>-0.006807</td>\n",
       "      <td>0.024182</td>\n",
       "      <td>0.022507</td>\n",
       "      <td>0.057296</td>\n",
       "      <td>0.022679</td>\n",
       "      <td>0.024039</td>\n",
       "      <td>0.016592</td>\n",
       "      <td>False</td>\n",
       "    </tr>\n",
       "    <tr>\n",
       "      <td>3</td>\n",
       "      <td>7.060</td>\n",
       "      <td>0.575326</td>\n",
       "      <td>0.115387</td>\n",
       "      <td>-0.893860</td>\n",
       "      <td>0.379074</td>\n",
       "      <td>0.067697</td>\n",
       "      <td>-0.015656</td>\n",
       "      <td>0.061929</td>\n",
       "      <td>-0.036392</td>\n",
       "      <td>-0.986603</td>\n",
       "      <td>...</td>\n",
       "      <td>-0.038749</td>\n",
       "      <td>-0.074418</td>\n",
       "      <td>0.020480</td>\n",
       "      <td>0.047576</td>\n",
       "      <td>0.036484</td>\n",
       "      <td>0.068351</td>\n",
       "      <td>0.095503</td>\n",
       "      <td>0.052869</td>\n",
       "      <td>0.028209</td>\n",
       "      <td>False</td>\n",
       "    </tr>\n",
       "    <tr>\n",
       "      <td>4</td>\n",
       "      <td>9.149</td>\n",
       "      <td>0.864902</td>\n",
       "      <td>0.127914</td>\n",
       "      <td>-0.914444</td>\n",
       "      <td>0.357315</td>\n",
       "      <td>0.031195</td>\n",
       "      <td>0.094832</td>\n",
       "      <td>0.056660</td>\n",
       "      <td>0.008118</td>\n",
       "      <td>-1.018906</td>\n",
       "      <td>...</td>\n",
       "      <td>-0.006386</td>\n",
       "      <td>-0.015274</td>\n",
       "      <td>0.014688</td>\n",
       "      <td>0.038033</td>\n",
       "      <td>0.032032</td>\n",
       "      <td>0.052048</td>\n",
       "      <td>0.022819</td>\n",
       "      <td>0.048195</td>\n",
       "      <td>0.032339</td>\n",
       "      <td>False</td>\n",
       "    </tr>\n",
       "  </tbody>\n",
       "</table>\n",
       "<p>5 rows × 27 columns</p>\n",
       "</div>"
      ],
      "text/plain": [
       "   meanSpeed   sdSpeed  maxAccelX  maxAccelY  maxAccelZ  maxGyroX  maxGyroY  \\\n",
       "0      0.041  0.129653   0.053787  -0.936584   0.295486 -0.007371  0.019259   \n",
       "1      1.364  1.024057   0.120621  -0.875656   0.398834  0.022393  0.006554   \n",
       "2      4.436  1.351158   0.120605  -0.906296   0.404266 -0.010554  0.051599   \n",
       "3      7.060  0.575326   0.115387  -0.893860   0.379074  0.067697 -0.015656   \n",
       "4      9.149  0.864902   0.127914  -0.914444   0.357315  0.031195  0.094832   \n",
       "\n",
       "   maxGyroZ  minAccelX  minAccelY  ...  meanGyroX  meanGyroY  meanGyroZ  \\\n",
       "0  0.007240   0.016998  -0.963852  ...  -0.020783  -0.001779   0.000218   \n",
       "1  0.033050   0.026840  -0.943787  ...  -0.022780  -0.018999  -0.003276   \n",
       "2  0.018975   0.033325  -0.988800  ...  -0.032363  -0.011066  -0.006807   \n",
       "3  0.061929  -0.036392  -0.986603  ...  -0.038749  -0.074418   0.020480   \n",
       "4  0.056660   0.008118  -1.018906  ...  -0.006386  -0.015274   0.014688   \n",
       "\n",
       "   sdAccelX  sdAccelY  sdAccelZ   sdGyroX   sdGyroY   sdGyroZ  pothole  \n",
       "0  0.011710  0.009103  0.040247  0.010819  0.008888  0.003437    False  \n",
       "1  0.031252  0.022495  0.028734  0.020178  0.019851  0.014961    False  \n",
       "2  0.024182  0.022507  0.057296  0.022679  0.024039  0.016592    False  \n",
       "3  0.047576  0.036484  0.068351  0.095503  0.052869  0.028209    False  \n",
       "4  0.038033  0.032032  0.052048  0.022819  0.048195  0.032339    False  \n",
       "\n",
       "[5 rows x 27 columns]"
      ]
     },
     "execution_count": 6,
     "metadata": {},
     "output_type": "execute_result"
    }
   ],
   "source": [
    "df = pd.DataFrame(columns=[\"meanSpeed\", \"sdSpeed\", \"maxAccelX\", \"maxAccelY\", \"maxAccelZ\", \"maxGyroX\", \"maxGyroY\", \n",
    "                           \"maxGyroZ\", \"minAccelX\", \"minAccelY\", \"minAccelZ\", \"minGyroX\", \"minGyroY\", \"minGyroZ\", \n",
    "                           \"meanAccelX\", \"meanAccelY\", \"meanAccelZ\", \"meanGyroX\", \"meanGyroY\", \"meanGyroZ\",\n",
    "                           \"sdAccelX\", \"sdAccelY\", \"sdAccelZ\", \"sdGyroX\", \"sdGyroY\", \"sdGyroZ\", \"pothole\"])\n",
    "for i in range(1,6):\n",
    "  \n",
    "    df_sensor = pd.read_csv('Pothole_Data/'+\"trip%s_sensors.csv\" % i)\n",
    "    df_pothole = pd.read_csv('Pothole_Data/'+\"trip%s_potholes.csv\" % i)\n",
    "    trip_df = convert_to_interval(df_sensor,df_pothole)\n",
    "    \n",
    "    #print(trip_df.head(5))\n",
    "    \n",
    "    df = df.append(trip_df,ignore_index=True)\n",
    "    \n",
    "    \n",
    "df.head(5)\n",
    "\n",
    "    \n",
    "    \n",
    "    "
   ]
  },
  {
   "cell_type": "markdown",
   "metadata": {},
   "source": [
    "<h5> Saving the dataframe </h5>"
   ]
  },
  {
   "cell_type": "code",
   "execution_count": 7,
   "metadata": {},
   "outputs": [],
   "source": [
    "df.to_csv(\"combined.csv\")"
   ]
  },
  {
   "cell_type": "code",
   "execution_count": 8,
   "metadata": {},
   "outputs": [],
   "source": [
    "df = pd.read_csv(\"combined.csv\")\n"
   ]
  },
  {
   "cell_type": "code",
   "execution_count": 9,
   "metadata": {},
   "outputs": [
    {
     "data": {
      "text/plain": [
       "(987, 28)"
      ]
     },
     "execution_count": 9,
     "metadata": {},
     "output_type": "execute_result"
    }
   ],
   "source": [
    "df.shape"
   ]
  },
  {
   "cell_type": "markdown",
   "metadata": {},
   "source": [
    "# Classification"
   ]
  },
  {
   "cell_type": "code",
   "execution_count": 10,
   "metadata": {},
   "outputs": [],
   "source": [
    "from sklearn.model_selection import train_test_split\n",
    "from sklearn.svm import SVC\n",
    "from sklearn.model_selection import cross_val_score\n",
    "import matplotlib.pyplot as plt\n",
    "from sklearn.metrics import classification_report\n",
    "from sklearn.metrics import confusion_matrix\n",
    "from sklearn.ensemble import RandomForestClassifier"
   ]
  },
  {
   "cell_type": "code",
   "execution_count": 11,
   "metadata": {},
   "outputs": [],
   "source": [
    "y = df['pothole'].astype(int)\n",
    "X = df[['maxAccelX', 'maxAccelY', 'maxAccelZ', 'maxGyroX', \n",
    "                'maxGyroY', 'maxGyroZ', 'minAccelX', 'minAccelY', 'minAccelZ', 'minGyroX', \n",
    "                'minGyroY', 'minGyroZ', 'meanAccelX', 'meanAccelY', 'meanAccelZ', \n",
    "                'meanGyroX', 'meanGyroY', 'meanGyroZ', 'sdAccelX', 'sdAccelY', 'sdAccelZ', \n",
    "                'sdGyroX', 'sdGyroY', 'sdGyroZ']]"
   ]
  },
  {
   "cell_type": "markdown",
   "metadata": {},
   "source": [
    "<h7> Support Vector Machine </h7>"
   ]
  },
  {
   "cell_type": "code",
   "execution_count": 12,
   "metadata": {},
   "outputs": [],
   "source": [
    "X_train, X_test, y_train, y_test = train_test_split(X, y, test_size=0.30, random_state=0)"
   ]
  },
  {
   "cell_type": "code",
   "execution_count": 13,
   "metadata": {},
   "outputs": [
    {
     "data": {
      "text/plain": [
       "Text(0, 0.5, 'Misclassification Rate')"
      ]
     },
     "execution_count": 13,
     "metadata": {},
     "output_type": "execute_result"
    },
    {
     "data": {
      "image/png": "[encoded data removed]",
      "text/plain": [
       "<Figure size 576x432 with 1 Axes>"
      ]
     },
     "metadata": {
      "needs_background": "light"
     },
     "output_type": "display_data"
    }
   ],
   "source": [
    "Cs = [1, 100, 200, 300, 400, 500, 600, 700, 800]\n",
    "cvAccuracy = []\n",
    "trainMisclassRate = []\n",
    "testMisclassRate = []\n",
    "\n",
    "for c in Cs:\n",
    "    clf = SVC(C=c)\n",
    "    scores = cross_val_score(clf, X,y, cv=5)\n",
    "    cvAccuracy.append(np.mean(scores))\n",
    "    clf.fit(X_train,y_train)\n",
    "    y_fitted = clf.predict(X_train)\n",
    "    y_pred = clf.predict(X_test)\n",
    "    trainMisclassRate.append(np.mean(y_fitted!=y_train))\n",
    "    testMisclassRate.append(np.mean(y_pred!=y_test))\n",
    "\n",
    "plt.figure(figsize=(8,6))\n",
    "plt.plot(Cs, trainMisclassRate, label=\"Training Set\")\n",
    "plt.plot(Cs, testMisclassRate, label=\"Test Set\")\n",
    "plt.legend(loc='upper right', fontsize=14)\n",
    "plt.title('Misclassification Rate vs. SVM C Parameter', fontsize=14)\n",
    "plt.xlabel('C', fontsize=14)\n",
    "plt.ylabel('Misclassification Rate', fontsize=14)"
   ]
  },
  {
   "cell_type": "code",
   "execution_count": 14,
   "metadata": {},
   "outputs": [
    {
     "name": "stdout",
     "output_type": "stream",
     "text": [
      "Final Test Accuracy: 0.9158249158249159\n",
      "\n",
      "Classification Report:\n",
      "              precision    recall  f1-score   support\n",
      "\n",
      "           0       0.93      0.98      0.95       264\n",
      "           1       0.75      0.36      0.49        33\n",
      "\n",
      "    accuracy                           0.92       297\n",
      "   macro avg       0.84      0.67      0.72       297\n",
      "weighted avg       0.91      0.92      0.90       297\n",
      "\n",
      "\n",
      "Confusion matrix:\n"
     ]
    },
    {
     "data": {
      "text/plain": [
       "array([[260,   4],\n",
       "       [ 21,  12]])"
      ]
     },
     "execution_count": 14,
     "metadata": {},
     "output_type": "execute_result"
    }
   ],
   "source": [
    "# Final SVM Classifier\n",
    "clf = SVC(C=100)\n",
    "clf.fit(X_train,y_train)\n",
    "y_pred = clf.predict(X_test)\n",
    "accuracy = np.mean(y_pred==y_test)\n",
    "print (\"Final Test Accuracy:\", accuracy)\n",
    "print (\"\\nClassification Report:\")\n",
    "print(classification_report(y_test, y_pred))\n",
    "print (\"\\nConfusion matrix:\")\n",
    "confusion_matrix(y_test, y_pred)"
   ]
  },
  {
   "cell_type": "code",
   "execution_count": 15,
   "metadata": {},
   "outputs": [],
   "source": [
    "import seaborn as sns\n",
    "import pandas as pd\n",
    "import matplotlib.pyplot as plt\n"
   ]
  },
  {
   "cell_type": "code",
   "execution_count": 16,
   "metadata": {},
   "outputs": [],
   "source": [
    "def conf_matrix(y_test,predicted_y):\n",
    "    labels = [0,1]\n",
    "    A = confusion_matrix(y_test,predicted_y)\n",
    "    B = (((A.T)/(A.sum(axis=1))).T)\n",
    "    C =(A/A.sum(axis=0))\n",
    "    print (\"#\"*25,\"Confusion_Matrix\",\"#\"*25)\n",
    "    plt.figure(figsize=(5,5))\n",
    "    sns.heatmap(A,annot=True, fmt='.2g', xticklabels=labels, yticklabels=labels,cmap = \"YlGnBu\")\n",
    "    plt.xlabel(\"Predicted class\")\n",
    "    plt.ylabel(\"Original class\")\n",
    "    plt.show()\n",
    "    print (\"#\"*25,\"Precision\",\"#\"*25)\n",
    "    plt.figure(figsize=(5,5))\n",
    "    sns.heatmap(B,annot=True, fmt='.2g', xticklabels=labels, yticklabels=labels,cmap = \"YlGnBu\")\n",
    "    plt.xlabel(\"Predicted class\")\n",
    "    plt.ylabel(\"Original class\")\n",
    "    plt.show()\n",
    "    print (\"#\"*25,\"Recall\",\"#\"*25)\n",
    "    plt.figure(figsize=(5,5))\n",
    "    sns.heatmap(C,annot=True, fmt='.2g', xticklabels=labels, yticklabels=labels,cmap = \"YlGnBu\")\n",
    "    plt.xlabel(\"Predicted class\")\n",
    "    plt.ylabel(\"Original class\")\n",
    "    plt.show()"
   ]
  },
  {
   "cell_type": "code",
   "execution_count": 17,
   "metadata": {},
   "outputs": [
    {
     "name": "stdout",
     "output_type": "stream",
     "text": [
      "######################### Confusion_Matrix #########################\n"
     ]
    },
    {
     "data": {
      "image/png": "[encoded data removed]",
      "text/plain": [
       "<Figure size 360x360 with 2 Axes>"
      ]
     },
     "metadata": {
      "needs_background": "light"
     },
     "output_type": "display_data"
    },
    {
     "name": "stdout",
     "output_type": "stream",
     "text": [
      "######################### Precision #########################\n"
     ]
    },
    {
     "data": {
      "image/png": "[encoded data removed]",
      "text/plain": [
       "<Figure size 360x360 with 2 Axes>"
      ]
     },
     "metadata": {
      "needs_background": "light"
     },
     "output_type": "display_data"
    },
    {
     "name": "stdout",
     "output_type": "stream",
     "text": [
      "######################### Recall #########################\n"
     ]
    },
    {
     "data": {
      "image/png": "[encoded data removed]",
      "text/plain": [
       "<Figure size 360x360 with 2 Axes>"
      ]
     },
     "metadata": {
      "needs_background": "light"
     },
     "output_type": "display_data"
    }
   ],
   "source": [
    "conf_matrix(y_test,y_pred)"
   ]
  },
  {
   "cell_type": "code",
   "execution_count": 18,
   "metadata": {},
   "outputs": [],
   "source": [
    "from sklearn.linear_model import LogisticRegression"
   ]
  },
  {
   "cell_type": "code",
   "execution_count": 19,
   "metadata": {},
   "outputs": [
    {
     "data": {
      "text/plain": [
       "Text(0, 0.5, 'Misclassification Rate')"
      ]
     },
     "execution_count": 19,
     "metadata": {},
     "output_type": "execute_result"
    },
    {
     "data": {
      "image/png": "[encoded data removed]",
      "text/plain": [
       "<Figure size 576x432 with 1 Axes>"
      ]
     },
     "metadata": {
      "needs_background": "light"
     },
     "output_type": "display_data"
    }
   ],
   "source": [
    "Cs = [1, 50, 100, 150, 200, 250, 300, 350, 400]\n",
    "cvAccuracy = []\n",
    "trainMisclassRate = []\n",
    "testMisclassRate = []\n",
    "\n",
    "for c in Cs:\n",
    "    clf = LogisticRegression(C=c)\n",
    "    scores = cross_val_score(clf, X,y, cv=5)\n",
    "    cvAccuracy.append(np.mean(scores))\n",
    "    clf.fit(X_train,y_train)\n",
    "    y_fitted = clf.predict(X_train)\n",
    "    y_pred = clf.predict(X_test)\n",
    "    trainMisclassRate.append(np.mean(y_fitted!=y_train))\n",
    "    testMisclassRate.append(np.mean(y_pred!=y_test))\n",
    "\n",
    "plt.figure(figsize=(8,6))\n",
    "plt.plot(Cs, trainMisclassRate, label=\"Training Set\")\n",
    "plt.plot(Cs, testMisclassRate, label=\"Test Set\")\n",
    "plt.legend(loc='upper right', fontsize=14)\n",
    "plt.title('Misclassification Rate vs. C Parameter', fontsize=14)\n",
    "plt.xlabel('C', fontsize=14)\n",
    "plt.ylabel('Misclassification Rate', fontsize=14)"
   ]
  },
  {
   "cell_type": "code",
   "execution_count": 20,
   "metadata": {},
   "outputs": [
    {
     "name": "stdout",
     "output_type": "stream",
     "text": [
      "Final Test Accuracy: 0.9191919191919192\n",
      "\n",
      "Classification Report:\n",
      "              precision    recall  f1-score   support\n",
      "\n",
      "           0       0.93      0.98      0.96       264\n",
      "           1       0.74      0.42      0.54        33\n",
      "\n",
      "    accuracy                           0.92       297\n",
      "   macro avg       0.83      0.70      0.75       297\n",
      "weighted avg       0.91      0.92      0.91       297\n",
      "\n",
      "\n",
      "Confusion matrix:\n"
     ]
    },
    {
     "data": {
      "text/plain": [
       "array([[259,   5],\n",
       "       [ 19,  14]])"
      ]
     },
     "execution_count": 20,
     "metadata": {},
     "output_type": "execute_result"
    }
   ],
   "source": [
    "# Final Logistic Regression Classifier\n",
    "clf = LogisticRegression(C=50)\n",
    "clf.fit(X_train,y_train)\n",
    "y_pred = clf.predict(X_test)\n",
    "accuracy = np.mean(y_pred==y_test)\n",
    "print (\"Final Test Accuracy:\", accuracy)\n",
    "print (\"\\nClassification Report:\")\n",
    "print(classification_report(y_test, y_pred))\n",
    "print (\"\\nConfusion matrix:\")\n",
    "confusion_matrix(y_test, y_pred)"
   ]
  },
  {
   "cell_type": "code",
   "execution_count": 21,
   "metadata": {},
   "outputs": [
    {
     "name": "stdout",
     "output_type": "stream",
     "text": [
      "######################### Confusion_Matrix #########################\n"
     ]
    },
    {
     "data": {
      "image/png": "[encoded data removed]",
      "text/plain": [
       "<Figure size 360x360 with 2 Axes>"
      ]
     },
     "metadata": {
      "needs_background": "light"
     },
     "output_type": "display_data"
    },
    {
     "name": "stdout",
     "output_type": "stream",
     "text": [
      "######################### Precision #########################\n"
     ]
    },
    {
     "data": {
      "image/png": "[encoded data removed]",
      "text/plain": [
       "<Figure size 360x360 with 2 Axes>"
      ]
     },
     "metadata": {
      "needs_background": "light"
     },
     "output_type": "display_data"
    },
    {
     "name": "stdout",
     "output_type": "stream",
     "text": [
      "######################### Recall #########################\n"
     ]
    },
    {
     "data": {
      "image/png": "[encoded data removed]",
      "text/plain": [
       "<Figure size 360x360 with 2 Axes>"
      ]
     },
     "metadata": {
      "needs_background": "light"
     },
     "output_type": "display_data"
    }
   ],
   "source": [
    "conf_matrix(y_test,y_pred)"
   ]
  },
  {
   "cell_type": "code",
   "execution_count": 22,
   "metadata": {},
   "outputs": [
    {
     "data": {
      "text/plain": [
       "Text(0, 0.5, 'Misclassification Rate')"
      ]
     },
     "execution_count": 22,
     "metadata": {},
     "output_type": "execute_result"
    },
    {
     "data": {
      "image/png": "[encoded data removed]",
      "text/plain": [
       "<Figure size 576x432 with 1 Axes>"
      ]
     },
     "metadata": {
      "needs_background": "light"
     },
     "output_type": "display_data"
    }
   ],
   "source": [
    "numTrees = [10, 20, 30, 40, 50, 60, 70, 80, 90, 100]\n",
    "cvAccuracy = []\n",
    "trainMisclassRate = []\n",
    "testMisclassRate = []\n",
    "\n",
    "for n in numTrees:\n",
    "    clf = RandomForestClassifier(n_estimators=n, random_state=0)\n",
    "    scores = cross_val_score(clf, X,y, cv=5)\n",
    "    cvAccuracy.append(np.mean(scores))\n",
    "    clf.fit(X_train,y_train)\n",
    "    y_fitted = clf.predict(X_train)\n",
    "    y_pred = clf.predict(X_test)\n",
    "    trainMisclassRate.append(np.mean(y_fitted!=y_train))\n",
    "    testMisclassRate.append(np.mean(y_pred!=y_test))\n",
    "\n",
    "plt.figure(figsize=(8,6))\n",
    "plt.plot(numTrees, trainMisclassRate, label=\"Training Set\")\n",
    "plt.plot(numTrees, testMisclassRate, label=\"Test Set\")\n",
    "plt.legend(loc='upper right', fontsize=14)\n",
    "plt.title('Misclassification Rate vs. Number of Trees', fontsize=14)\n",
    "plt.xlabel('Number of trees', fontsize=14)\n",
    "plt.ylabel('Misclassification Rate', fontsize=14)"
   ]
  },
  {
   "cell_type": "code",
   "execution_count": 23,
   "metadata": {},
   "outputs": [
    {
     "name": "stdout",
     "output_type": "stream",
     "text": [
      "Final Test Accuracy: 0.9124579124579124\n",
      "\n",
      "Classification Report:\n",
      "              precision    recall  f1-score   support\n",
      "\n",
      "           0       0.93      0.98      0.95       264\n",
      "           1       0.68      0.39      0.50        33\n",
      "\n",
      "    accuracy                           0.91       297\n",
      "   macro avg       0.81      0.69      0.73       297\n",
      "weighted avg       0.90      0.91      0.90       297\n",
      "\n",
      "\n",
      "Confusion matrix:\n"
     ]
    },
    {
     "data": {
      "text/plain": [
       "array([[258,   6],\n",
       "       [ 20,  13]])"
      ]
     },
     "execution_count": 23,
     "metadata": {},
     "output_type": "execute_result"
    }
   ],
   "source": [
    "# Final Random Forest Classifier\n",
    "clf = RandomForestClassifier(n_estimators=50, random_state=0)\n",
    "clf.fit(X_train,y_train)\n",
    "y_pred = clf.predict(X_test)\n",
    "accuracy = np.mean(y_pred==y_test)\n",
    "print (\"Final Test Accuracy:\", accuracy)\n",
    "print (\"\\nClassification Report:\")\n",
    "print(classification_report(y_test, y_pred))\n",
    "print (\"\\nConfusion matrix:\")\n",
    "confusion_matrix(y_test, y_pred)"
   ]
  },
  {
   "cell_type": "code",
   "execution_count": 24,
   "metadata": {},
   "outputs": [
    {
     "name": "stdout",
     "output_type": "stream",
     "text": [
      "######################### Confusion_Matrix #########################\n"
     ]
    },
    {
     "data": {
      "image/png": "[encoded data removed]",
      "text/plain": [
       "<Figure size 360x360 with 2 Axes>"
      ]
     },
     "metadata": {
      "needs_background": "light"
     },
     "output_type": "display_data"
    },
    {
     "name": "stdout",
     "output_type": "stream",
     "text": [
      "######################### Precision #########################\n"
     ]
    },
    {
     "data": {
      "image/png": "[encoded data removed]",
      "text/plain": [
       "<Figure size 360x360 with 2 Axes>"
      ]
     },
     "metadata": {
      "needs_background": "light"
     },
     "output_type": "display_data"
    },
    {
     "name": "stdout",
     "output_type": "stream",
     "text": [
      "######################### Recall #########################\n"
     ]
    },
    {
     "data": {
      "image/png": "[encoded data removed]",
      "text/plain": [
       "<Figure size 360x360 with 2 Axes>"
      ]
     },
     "metadata": {
      "needs_background": "light"
     },
     "output_type": "display_data"
    }
   ],
   "source": [
    "conf_matrix(y_test,y_pred)"
   ]
  },
  {
   "cell_type": "code",
   "execution_count": 25,
   "metadata": {},
   "outputs": [],
   "source": [
    "from sklearn.neighbors import KNeighborsClassifier"
   ]
  },
  {
   "cell_type": "code",
   "execution_count": 26,
   "metadata": {},
   "outputs": [
    {
     "data": {
      "text/plain": [
       "Text(0, 0.5, 'Misclassification Rate')"
      ]
     },
     "execution_count": 26,
     "metadata": {},
     "output_type": "execute_result"
    },
    {
     "data": {
      "image/png": "[encoded data removed]",
      "text/plain": [
       "<Figure size 576x432 with 1 Axes>"
      ]
     },
     "metadata": {
      "needs_background": "light"
     },
     "output_type": "display_data"
    }
   ],
   "source": [
    "Ks = [1,2,3,4,5,10,20]\n",
    "cvAccuracy = []\n",
    "trainMisclassRate = []\n",
    "testMisclassRate = []\n",
    "\n",
    "for k in Ks:\n",
    "    clf = KNeighborsClassifier(n_neighbors=k)\n",
    "    scores = cross_val_score(clf, X,y, cv=5)\n",
    "    cvAccuracy.append(np.mean(scores))\n",
    "    clf.fit(X_train,y_train)\n",
    "    y_fitted = clf.predict(X_train)\n",
    "    y_pred = clf.predict(X_test)\n",
    "    trainMisclassRate.append(np.mean(y_fitted!=y_train))\n",
    "    testMisclassRate.append(np.mean(y_pred!=y_test))\n",
    "\n",
    "plt.figure(figsize=(8,6))\n",
    "plt.plot(Ks, trainMisclassRate, label=\"Training Set\")\n",
    "plt.plot(Ks, testMisclassRate, label=\"Test Set\")\n",
    "plt.legend(loc='upper right', fontsize=14)\n",
    "plt.title('Misclassification Rate vs. k parameter', fontsize=14)\n",
    "plt.xlabel('k', fontsize=14)\n",
    "plt.ylabel('Misclassification Rate', fontsize=14)"
   ]
  },
  {
   "cell_type": "code",
   "execution_count": 27,
   "metadata": {},
   "outputs": [
    {
     "name": "stdout",
     "output_type": "stream",
     "text": [
      "Final Test Accuracy: 0.9023569023569024\n",
      "\n",
      "Classification Report:\n",
      "              precision    recall  f1-score   support\n",
      "\n",
      "           0       0.91      0.98      0.95       264\n",
      "           1       0.67      0.24      0.36        33\n",
      "\n",
      "    accuracy                           0.90       297\n",
      "   macro avg       0.79      0.61      0.65       297\n",
      "weighted avg       0.88      0.90      0.88       297\n",
      "\n",
      "\n",
      "Confusion matrix:\n"
     ]
    },
    {
     "data": {
      "text/plain": [
       "array([[260,   4],\n",
       "       [ 25,   8]])"
      ]
     },
     "execution_count": 27,
     "metadata": {},
     "output_type": "execute_result"
    }
   ],
   "source": [
    "clf = KNeighborsClassifier(n_neighbors=4)\n",
    "clf.fit(X_train, y_train)\n",
    "y_pred = clf.predict(X_test)\n",
    "accuracy = np.mean(y_pred==y_test)\n",
    "print (\"Final Test Accuracy:\", accuracy)\n",
    "print (\"\\nClassification Report:\")\n",
    "print(classification_report(y_test, y_pred))\n",
    "print (\"\\nConfusion matrix:\")\n",
    "confusion_matrix(y_test, y_pred)"
   ]
  },
  {
   "cell_type": "code",
   "execution_count": 28,
   "metadata": {},
   "outputs": [
    {
     "name": "stdout",
     "output_type": "stream",
     "text": [
      "######################### Confusion_Matrix #########################\n"
     ]
    },
    {
     "data": {
      "image/png": "[encoded data removed]",
      "text/plain": [
       "<Figure size 360x360 with 2 Axes>"
      ]
     },
     "metadata": {
      "needs_background": "light"
     },
     "output_type": "display_data"
    },
    {
     "name": "stdout",
     "output_type": "stream",
     "text": [
      "######################### Precision #########################\n"
     ]
    },
    {
     "data": {
      "image/png": "[encoded data removed]",
      "text/plain": [
       "<Figure size 360x360 with 2 Axes>"
      ]
     },
     "metadata": {
      "needs_background": "light"
     },
     "output_type": "display_data"
    },
    {
     "name": "stdout",
     "output_type": "stream",
     "text": [
      "######################### Recall #########################\n"
     ]
    },
    {
     "data": {
      "image/png": "[encoded data removed]",
      "text/plain": [
       "<Figure size 360x360 with 2 Axes>"
      ]
     },
     "metadata": {
      "needs_background": "light"
     },
     "output_type": "display_data"
    }
   ],
   "source": [
    "conf_matrix(y_test,y_pred)"
   ]
  },
  {
   "cell_type": "code",
   "execution_count": 29,
   "metadata": {},
   "outputs": [],
   "source": [
    "#Saving our best model i.e; SVM"
   ]
  },
  {
   "cell_type": "markdown",
   "metadata": {},
   "source": [
    "# Road Condition Classification "
   ]
  },
  {
   "cell_type": "code",
   "execution_count": 59,
   "metadata": {},
   "outputs": [],
   "source": [
    "def convert_to_interval_road(df_sensor,road):\n",
    "    len_sensor = len(df_sensor)\n",
    "    data = list()\n",
    "    for k in range(0,len_sensor,25):\n",
    "        current_interval = df_sensor[k:k+25]\n",
    "        meanSpeed = current_interval['speed'].mean()\n",
    "        sdSpeed = current_interval['speed'].std()\n",
    "        maxAccelX = max(current_interval['accelerometerX'])\n",
    "        maxAccelY = max(current_interval['accelerometerY'])\n",
    "        maxAccelZ = max(current_interval['accelerometerZ'])\n",
    "        maxGyroX = max(current_interval['gyroX'])\n",
    "        maxGyroY = max(current_interval['gyroY'])\n",
    "        maxGyroZ = max(current_interval['gyroZ'])\n",
    "        minAccelX = min(current_interval['accelerometerX'])\n",
    "        minAccelY = min(current_interval['accelerometerY'])\n",
    "        minAccelZ = min(current_interval['accelerometerZ'])\n",
    "        minGyroX = min(current_interval['gyroX'])\n",
    "        minGyroY = min(current_interval['gyroY'])\n",
    "        minGyroZ = min(current_interval['gyroZ'])\n",
    "        meanAccelX = current_interval['accelerometerX'].mean()\n",
    "        meanAccelY = current_interval['accelerometerY'].mean()\n",
    "        meanAccelZ = current_interval['accelerometerZ'].mean()\n",
    "        sdAccelX = current_interval['accelerometerX'].std()\n",
    "        sdAccelY = current_interval['accelerometerY'].std()\n",
    "        sdAccelZ = current_interval['accelerometerZ'].std()\n",
    "        meanGyroX = current_interval['gyroX'].mean()\n",
    "        meanGyroY = current_interval['gyroY'].mean()\n",
    "        meanGyroZ = current_interval['gyroZ'].mean()\n",
    "        sdGyroX = current_interval['gyroX'].std()\n",
    "        sdGyroY = current_interval['gyroY'].std()\n",
    "        sdGyroZ = current_interval['gyroZ'].std()\n",
    "        if road == \"g\":\n",
    "            condition = 0\n",
    "        else:\n",
    "            condition = 1\n",
    "        \n",
    "        datapoint = [meanSpeed, sdSpeed, maxAccelX, maxAccelY, maxAccelZ, maxGyroX, maxGyroY, \n",
    "                           maxGyroZ, minAccelX, minAccelY, minAccelZ, minGyroX, minGyroY, minGyroZ, \n",
    "                           meanAccelX, meanAccelY, meanAccelZ, meanGyroX, meanGyroY, meanGyroZ,\n",
    "                           sdAccelX, sdAccelY, sdAccelZ, sdGyroX, sdGyroY, sdGyroZ, condition]\n",
    "        data.append(datapoint)\n",
    "    df = pd.DataFrame.from_records(data)\n",
    "    df.columns = [\"meanSpeed\", \"sdSpeed\", \"maxAccelX\", \"maxAccelY\", \"maxAccelZ\", \"maxGyroX\", \"maxGyroY\", \n",
    "                           \"maxGyroZ\", \"minAccelX\", \"minAccelY\", \"minAccelZ\", \"minGyroX\", \"minGyroY\", \"minGyroZ\", \n",
    "                           \"meanAccelX\", \"meanAccelY\", \"meanAccelZ\", \"meanGyroX\", \"meanGyroY\", \"meanGyroZ\",\n",
    "                           \"sdAccelX\", \"sdAccelY\", \"sdAccelZ\", \"sdGyroX\", \"sdGyroY\", \"sdGyroZ\", \"condition\"]\n",
    "    \n",
    "    return df\n",
    "    \n",
    "\n",
    "\n",
    "    \n",
    "    \n",
    "    \n",
    "    \n",
    "    \n",
    "    \n",
    "    \n",
    "    \n",
    "    \n",
    "    \n",
    "    \n",
    "    \n",
    "    \n",
    "    \n",
    "    \n",
    "    "
   ]
  },
  {
   "cell_type": "code",
   "execution_count": 60,
   "metadata": {},
   "outputs": [
    {
     "data": {
      "text/html": [
       "<div>\n",
       "<style scoped>\n",
       "    .dataframe tbody tr th:only-of-type {\n",
       "        vertical-align: middle;\n",
       "    }\n",
       "\n",
       "    .dataframe tbody tr th {\n",
       "        vertical-align: top;\n",
       "    }\n",
       "\n",
       "    .dataframe thead th {\n",
       "        text-align: right;\n",
       "    }\n",
       "</style>\n",
       "<table border=\"1\" class=\"dataframe\">\n",
       "  <thead>\n",
       "    <tr style=\"text-align: right;\">\n",
       "      <th></th>\n",
       "      <th>meanSpeed</th>\n",
       "      <th>sdSpeed</th>\n",
       "      <th>maxAccelX</th>\n",
       "      <th>maxAccelY</th>\n",
       "      <th>maxAccelZ</th>\n",
       "      <th>maxGyroX</th>\n",
       "      <th>maxGyroY</th>\n",
       "      <th>maxGyroZ</th>\n",
       "      <th>minAccelX</th>\n",
       "      <th>minAccelY</th>\n",
       "      <th>...</th>\n",
       "      <th>meanGyroX</th>\n",
       "      <th>meanGyroY</th>\n",
       "      <th>meanGyroZ</th>\n",
       "      <th>sdAccelX</th>\n",
       "      <th>sdAccelY</th>\n",
       "      <th>sdAccelZ</th>\n",
       "      <th>sdGyroX</th>\n",
       "      <th>sdGyroY</th>\n",
       "      <th>sdGyroZ</th>\n",
       "      <th>condition</th>\n",
       "    </tr>\n",
       "  </thead>\n",
       "  <tbody>\n",
       "    <tr>\n",
       "      <td>0</td>\n",
       "      <td>1.4480</td>\n",
       "      <td>1.873593</td>\n",
       "      <td>0.081833</td>\n",
       "      <td>-0.892563</td>\n",
       "      <td>0.531357</td>\n",
       "      <td>0.030879</td>\n",
       "      <td>0.022563</td>\n",
       "      <td>0.025532</td>\n",
       "      <td>-0.012863</td>\n",
       "      <td>-0.972656</td>\n",
       "      <td>...</td>\n",
       "      <td>-0.026106</td>\n",
       "      <td>-0.011531</td>\n",
       "      <td>-0.000536</td>\n",
       "      <td>0.024824</td>\n",
       "      <td>0.026782</td>\n",
       "      <td>0.092917</td>\n",
       "      <td>0.030684</td>\n",
       "      <td>0.022975</td>\n",
       "      <td>0.014998</td>\n",
       "      <td>0</td>\n",
       "    </tr>\n",
       "    <tr>\n",
       "      <td>1</td>\n",
       "      <td>8.5456</td>\n",
       "      <td>1.651202</td>\n",
       "      <td>0.382187</td>\n",
       "      <td>-0.828186</td>\n",
       "      <td>0.428528</td>\n",
       "      <td>0.076003</td>\n",
       "      <td>0.368514</td>\n",
       "      <td>0.048106</td>\n",
       "      <td>-0.030273</td>\n",
       "      <td>-1.048843</td>\n",
       "      <td>...</td>\n",
       "      <td>-0.021130</td>\n",
       "      <td>0.026896</td>\n",
       "      <td>-0.028604</td>\n",
       "      <td>0.082117</td>\n",
       "      <td>0.041041</td>\n",
       "      <td>0.052897</td>\n",
       "      <td>0.051127</td>\n",
       "      <td>0.098617</td>\n",
       "      <td>0.068498</td>\n",
       "      <td>0</td>\n",
       "    </tr>\n",
       "    <tr>\n",
       "      <td>2</td>\n",
       "      <td>12.4456</td>\n",
       "      <td>0.601582</td>\n",
       "      <td>0.161774</td>\n",
       "      <td>-0.785294</td>\n",
       "      <td>0.576187</td>\n",
       "      <td>0.074529</td>\n",
       "      <td>0.229708</td>\n",
       "      <td>0.159245</td>\n",
       "      <td>-0.280014</td>\n",
       "      <td>-1.212280</td>\n",
       "      <td>...</td>\n",
       "      <td>-0.028434</td>\n",
       "      <td>0.004568</td>\n",
       "      <td>0.000934</td>\n",
       "      <td>0.111291</td>\n",
       "      <td>0.096310</td>\n",
       "      <td>0.096204</td>\n",
       "      <td>0.075677</td>\n",
       "      <td>0.088893</td>\n",
       "      <td>0.074676</td>\n",
       "      <td>0</td>\n",
       "    </tr>\n",
       "    <tr>\n",
       "      <td>3</td>\n",
       "      <td>12.6376</td>\n",
       "      <td>0.139591</td>\n",
       "      <td>0.179916</td>\n",
       "      <td>-0.803604</td>\n",
       "      <td>0.311172</td>\n",
       "      <td>0.090103</td>\n",
       "      <td>0.124027</td>\n",
       "      <td>0.106324</td>\n",
       "      <td>-0.162643</td>\n",
       "      <td>-1.069412</td>\n",
       "      <td>...</td>\n",
       "      <td>-0.023337</td>\n",
       "      <td>-0.054731</td>\n",
       "      <td>0.031761</td>\n",
       "      <td>0.104010</td>\n",
       "      <td>0.075777</td>\n",
       "      <td>0.047894</td>\n",
       "      <td>0.068000</td>\n",
       "      <td>0.084106</td>\n",
       "      <td>0.048881</td>\n",
       "      <td>0</td>\n",
       "    </tr>\n",
       "    <tr>\n",
       "      <td>4</td>\n",
       "      <td>12.9352</td>\n",
       "      <td>0.283301</td>\n",
       "      <td>0.145187</td>\n",
       "      <td>-0.882919</td>\n",
       "      <td>0.280197</td>\n",
       "      <td>0.101957</td>\n",
       "      <td>0.148029</td>\n",
       "      <td>0.127700</td>\n",
       "      <td>-0.123413</td>\n",
       "      <td>-1.033752</td>\n",
       "      <td>...</td>\n",
       "      <td>-0.008532</td>\n",
       "      <td>-0.055637</td>\n",
       "      <td>0.026456</td>\n",
       "      <td>0.074642</td>\n",
       "      <td>0.039988</td>\n",
       "      <td>0.033150</td>\n",
       "      <td>0.055188</td>\n",
       "      <td>0.099061</td>\n",
       "      <td>0.063591</td>\n",
       "      <td>0</td>\n",
       "    </tr>\n",
       "  </tbody>\n",
       "</table>\n",
       "<p>5 rows × 27 columns</p>\n",
       "</div>"
      ],
      "text/plain": [
       "   meanSpeed   sdSpeed  maxAccelX  maxAccelY  maxAccelZ  maxGyroX  maxGyroY  \\\n",
       "0     1.4480  1.873593   0.081833  -0.892563   0.531357  0.030879  0.022563   \n",
       "1     8.5456  1.651202   0.382187  -0.828186   0.428528  0.076003  0.368514   \n",
       "2    12.4456  0.601582   0.161774  -0.785294   0.576187  0.074529  0.229708   \n",
       "3    12.6376  0.139591   0.179916  -0.803604   0.311172  0.090103  0.124027   \n",
       "4    12.9352  0.283301   0.145187  -0.882919   0.280197  0.101957  0.148029   \n",
       "\n",
       "   maxGyroZ  minAccelX  minAccelY  ...  meanGyroX  meanGyroY  meanGyroZ  \\\n",
       "0  0.025532  -0.012863  -0.972656  ...  -0.026106  -0.011531  -0.000536   \n",
       "1  0.048106  -0.030273  -1.048843  ...  -0.021130   0.026896  -0.028604   \n",
       "2  0.159245  -0.280014  -1.212280  ...  -0.028434   0.004568   0.000934   \n",
       "3  0.106324  -0.162643  -1.069412  ...  -0.023337  -0.054731   0.031761   \n",
       "4  0.127700  -0.123413  -1.033752  ...  -0.008532  -0.055637   0.026456   \n",
       "\n",
       "   sdAccelX  sdAccelY  sdAccelZ   sdGyroX   sdGyroY   sdGyroZ  condition  \n",
       "0  0.024824  0.026782  0.092917  0.030684  0.022975  0.014998          0  \n",
       "1  0.082117  0.041041  0.052897  0.051127  0.098617  0.068498          0  \n",
       "2  0.111291  0.096310  0.096204  0.075677  0.088893  0.074676          0  \n",
       "3  0.104010  0.075777  0.047894  0.068000  0.084106  0.048881          0  \n",
       "4  0.074642  0.039988  0.033150  0.055188  0.099061  0.063591          0  \n",
       "\n",
       "[5 rows x 27 columns]"
      ]
     },
     "execution_count": 60,
     "metadata": {},
     "output_type": "execute_result"
    }
   ],
   "source": [
    "df = pd.DataFrame(columns=[\"meanSpeed\", \"sdSpeed\", \"maxAccelX\", \"maxAccelY\", \"maxAccelZ\", \"maxGyroX\", \"maxGyroY\", \n",
    "                           \"maxGyroZ\", \"minAccelX\", \"minAccelY\", \"minAccelZ\", \"minGyroX\", \"minGyroY\", \"minGyroZ\", \n",
    "                           \"meanAccelX\", \"meanAccelY\", \"meanAccelZ\", \"meanGyroX\", \"meanGyroY\", \"meanGyroZ\",\n",
    "                           \"sdAccelX\", \"sdAccelY\", \"sdAccelZ\", \"sdGyroX\", \"sdGyroY\", \"sdGyroZ\", \"condition\"])\n",
    "for i in range(1,11):\n",
    "  \n",
    "    df_sensor = pd.read_csv('road_qualityData/'+'good%s_sensors.csv' % i)\n",
    "    \n",
    "    trip_df = convert_to_interval_road(df_sensor,\"g\")\n",
    "    \n",
    "    #print(trip_df.head(5))\n",
    "    \n",
    "    df = df.append(trip_df,ignore_index=True)\n",
    "    \n",
    "    \n",
    "for i in range(1,6):\n",
    "  \n",
    "    df_sensor = pd.read_csv('road_qualityData/'+'bad%s_sensors.csv' % i)\n",
    "    \n",
    "    trip_df = convert_to_interval_road(df_sensor,\"b\")\n",
    "    \n",
    "    #print(trip_df.head(5))\n",
    "    \n",
    "    df = df.append(trip_df,ignore_index=True)\n",
    "\n",
    "\n",
    "df.head(5)\n",
    "    "
   ]
  },
  {
   "cell_type": "code",
   "execution_count": 61,
   "metadata": {},
   "outputs": [
    {
     "data": {
      "text/plain": [
       "(461, 27)"
      ]
     },
     "execution_count": 61,
     "metadata": {},
     "output_type": "execute_result"
    }
   ],
   "source": [
    "df.shape"
   ]
  },
  {
   "cell_type": "code",
   "execution_count": 69,
   "metadata": {},
   "outputs": [
    {
     "data": {
      "text/plain": [
       "14"
      ]
     },
     "execution_count": 69,
     "metadata": {},
     "output_type": "execute_result"
    }
   ],
   "source": [
    "df.isnull().sum().sum()"
   ]
  },
  {
   "cell_type": "code",
   "execution_count": 70,
   "metadata": {},
   "outputs": [
    {
     "data": {
      "text/plain": [
       "True"
      ]
     },
     "execution_count": 70,
     "metadata": {},
     "output_type": "execute_result"
    }
   ],
   "source": [
    "df.isnull().values.any()"
   ]
  },
  {
   "cell_type": "code",
   "execution_count": 74,
   "metadata": {},
   "outputs": [],
   "source": [
    "df = df.dropna()"
   ]
  },
  {
   "cell_type": "code",
   "execution_count": 75,
   "metadata": {},
   "outputs": [
    {
     "data": {
      "text/plain": [
       "(459, 27)"
      ]
     },
     "execution_count": 75,
     "metadata": {},
     "output_type": "execute_result"
    }
   ],
   "source": [
    "df.shape"
   ]
  },
  {
   "cell_type": "code",
   "execution_count": 76,
   "metadata": {},
   "outputs": [
    {
     "data": {
      "text/plain": [
       "False"
      ]
     },
     "execution_count": 76,
     "metadata": {},
     "output_type": "execute_result"
    }
   ],
   "source": [
    "df.isnull().values.any()"
   ]
  },
  {
   "cell_type": "code",
   "execution_count": 77,
   "metadata": {},
   "outputs": [
    {
     "data": {
      "text/plain": [
       "0    373\n",
       "1     86\n",
       "Name: condition, dtype: int64"
      ]
     },
     "execution_count": 77,
     "metadata": {},
     "output_type": "execute_result"
    }
   ],
   "source": [
    "pd.value_counts(df[\"condition\"])"
   ]
  },
  {
   "cell_type": "code",
   "execution_count": 78,
   "metadata": {},
   "outputs": [],
   "source": [
    "df.to_csv(\"roadQuality.csv\",index = False)"
   ]
  },
  {
   "cell_type": "code",
   "execution_count": 79,
   "metadata": {},
   "outputs": [],
   "source": [
    "roadQuality = pd.read_csv(\"roadQuality.csv\")"
   ]
  },
  {
   "cell_type": "code",
   "execution_count": 80,
   "metadata": {},
   "outputs": [
    {
     "data": {
      "text/html": [
       "<div>\n",
       "<style scoped>\n",
       "    .dataframe tbody tr th:only-of-type {\n",
       "        vertical-align: middle;\n",
       "    }\n",
       "\n",
       "    .dataframe tbody tr th {\n",
       "        vertical-align: top;\n",
       "    }\n",
       "\n",
       "    .dataframe thead th {\n",
       "        text-align: right;\n",
       "    }\n",
       "</style>\n",
       "<table border=\"1\" class=\"dataframe\">\n",
       "  <thead>\n",
       "    <tr style=\"text-align: right;\">\n",
       "      <th></th>\n",
       "      <th>meanSpeed</th>\n",
       "      <th>sdSpeed</th>\n",
       "      <th>maxAccelX</th>\n",
       "      <th>maxAccelY</th>\n",
       "      <th>maxAccelZ</th>\n",
       "      <th>maxGyroX</th>\n",
       "      <th>maxGyroY</th>\n",
       "      <th>maxGyroZ</th>\n",
       "      <th>minAccelX</th>\n",
       "      <th>minAccelY</th>\n",
       "      <th>...</th>\n",
       "      <th>meanGyroX</th>\n",
       "      <th>meanGyroY</th>\n",
       "      <th>meanGyroZ</th>\n",
       "      <th>sdAccelX</th>\n",
       "      <th>sdAccelY</th>\n",
       "      <th>sdAccelZ</th>\n",
       "      <th>sdGyroX</th>\n",
       "      <th>sdGyroY</th>\n",
       "      <th>sdGyroZ</th>\n",
       "      <th>condition</th>\n",
       "    </tr>\n",
       "  </thead>\n",
       "  <tbody>\n",
       "    <tr>\n",
       "      <td>0</td>\n",
       "      <td>1.4480</td>\n",
       "      <td>1.873593</td>\n",
       "      <td>0.081833</td>\n",
       "      <td>-0.892563</td>\n",
       "      <td>0.531357</td>\n",
       "      <td>0.030879</td>\n",
       "      <td>0.022563</td>\n",
       "      <td>0.025532</td>\n",
       "      <td>-0.012863</td>\n",
       "      <td>-0.972656</td>\n",
       "      <td>...</td>\n",
       "      <td>-0.026106</td>\n",
       "      <td>-0.011531</td>\n",
       "      <td>-0.000536</td>\n",
       "      <td>0.024824</td>\n",
       "      <td>0.026782</td>\n",
       "      <td>0.092917</td>\n",
       "      <td>0.030684</td>\n",
       "      <td>0.022975</td>\n",
       "      <td>0.014998</td>\n",
       "      <td>0</td>\n",
       "    </tr>\n",
       "    <tr>\n",
       "      <td>1</td>\n",
       "      <td>8.5456</td>\n",
       "      <td>1.651202</td>\n",
       "      <td>0.382187</td>\n",
       "      <td>-0.828186</td>\n",
       "      <td>0.428528</td>\n",
       "      <td>0.076003</td>\n",
       "      <td>0.368514</td>\n",
       "      <td>0.048106</td>\n",
       "      <td>-0.030273</td>\n",
       "      <td>-1.048843</td>\n",
       "      <td>...</td>\n",
       "      <td>-0.021130</td>\n",
       "      <td>0.026896</td>\n",
       "      <td>-0.028604</td>\n",
       "      <td>0.082117</td>\n",
       "      <td>0.041041</td>\n",
       "      <td>0.052897</td>\n",
       "      <td>0.051127</td>\n",
       "      <td>0.098617</td>\n",
       "      <td>0.068498</td>\n",
       "      <td>0</td>\n",
       "    </tr>\n",
       "    <tr>\n",
       "      <td>2</td>\n",
       "      <td>12.4456</td>\n",
       "      <td>0.601582</td>\n",
       "      <td>0.161774</td>\n",
       "      <td>-0.785294</td>\n",
       "      <td>0.576187</td>\n",
       "      <td>0.074529</td>\n",
       "      <td>0.229708</td>\n",
       "      <td>0.159245</td>\n",
       "      <td>-0.280014</td>\n",
       "      <td>-1.212280</td>\n",
       "      <td>...</td>\n",
       "      <td>-0.028434</td>\n",
       "      <td>0.004568</td>\n",
       "      <td>0.000934</td>\n",
       "      <td>0.111291</td>\n",
       "      <td>0.096310</td>\n",
       "      <td>0.096204</td>\n",
       "      <td>0.075677</td>\n",
       "      <td>0.088893</td>\n",
       "      <td>0.074676</td>\n",
       "      <td>0</td>\n",
       "    </tr>\n",
       "    <tr>\n",
       "      <td>3</td>\n",
       "      <td>12.6376</td>\n",
       "      <td>0.139591</td>\n",
       "      <td>0.179916</td>\n",
       "      <td>-0.803604</td>\n",
       "      <td>0.311172</td>\n",
       "      <td>0.090103</td>\n",
       "      <td>0.124027</td>\n",
       "      <td>0.106324</td>\n",
       "      <td>-0.162643</td>\n",
       "      <td>-1.069412</td>\n",
       "      <td>...</td>\n",
       "      <td>-0.023337</td>\n",
       "      <td>-0.054731</td>\n",
       "      <td>0.031761</td>\n",
       "      <td>0.104010</td>\n",
       "      <td>0.075777</td>\n",
       "      <td>0.047894</td>\n",
       "      <td>0.068000</td>\n",
       "      <td>0.084106</td>\n",
       "      <td>0.048881</td>\n",
       "      <td>0</td>\n",
       "    </tr>\n",
       "    <tr>\n",
       "      <td>4</td>\n",
       "      <td>12.9352</td>\n",
       "      <td>0.283301</td>\n",
       "      <td>0.145187</td>\n",
       "      <td>-0.882919</td>\n",
       "      <td>0.280197</td>\n",
       "      <td>0.101957</td>\n",
       "      <td>0.148029</td>\n",
       "      <td>0.127700</td>\n",
       "      <td>-0.123413</td>\n",
       "      <td>-1.033752</td>\n",
       "      <td>...</td>\n",
       "      <td>-0.008532</td>\n",
       "      <td>-0.055637</td>\n",
       "      <td>0.026456</td>\n",
       "      <td>0.074642</td>\n",
       "      <td>0.039988</td>\n",
       "      <td>0.033150</td>\n",
       "      <td>0.055188</td>\n",
       "      <td>0.099061</td>\n",
       "      <td>0.063591</td>\n",
       "      <td>0</td>\n",
       "    </tr>\n",
       "  </tbody>\n",
       "</table>\n",
       "<p>5 rows × 27 columns</p>\n",
       "</div>"
      ],
      "text/plain": [
       "   meanSpeed   sdSpeed  maxAccelX  maxAccelY  maxAccelZ  maxGyroX  maxGyroY  \\\n",
       "0     1.4480  1.873593   0.081833  -0.892563   0.531357  0.030879  0.022563   \n",
       "1     8.5456  1.651202   0.382187  -0.828186   0.428528  0.076003  0.368514   \n",
       "2    12.4456  0.601582   0.161774  -0.785294   0.576187  0.074529  0.229708   \n",
       "3    12.6376  0.139591   0.179916  -0.803604   0.311172  0.090103  0.124027   \n",
       "4    12.9352  0.283301   0.145187  -0.882919   0.280197  0.101957  0.148029   \n",
       "\n",
       "   maxGyroZ  minAccelX  minAccelY  ...  meanGyroX  meanGyroY  meanGyroZ  \\\n",
       "0  0.025532  -0.012863  -0.972656  ...  -0.026106  -0.011531  -0.000536   \n",
       "1  0.048106  -0.030273  -1.048843  ...  -0.021130   0.026896  -0.028604   \n",
       "2  0.159245  -0.280014  -1.212280  ...  -0.028434   0.004568   0.000934   \n",
       "3  0.106324  -0.162643  -1.069412  ...  -0.023337  -0.054731   0.031761   \n",
       "4  0.127700  -0.123413  -1.033752  ...  -0.008532  -0.055637   0.026456   \n",
       "\n",
       "   sdAccelX  sdAccelY  sdAccelZ   sdGyroX   sdGyroY   sdGyroZ  condition  \n",
       "0  0.024824  0.026782  0.092917  0.030684  0.022975  0.014998          0  \n",
       "1  0.082117  0.041041  0.052897  0.051127  0.098617  0.068498          0  \n",
       "2  0.111291  0.096310  0.096204  0.075677  0.088893  0.074676          0  \n",
       "3  0.104010  0.075777  0.047894  0.068000  0.084106  0.048881          0  \n",
       "4  0.074642  0.039988  0.033150  0.055188  0.099061  0.063591          0  \n",
       "\n",
       "[5 rows x 27 columns]"
      ]
     },
     "execution_count": 80,
     "metadata": {},
     "output_type": "execute_result"
    }
   ],
   "source": [
    "roadQuality.head(5)"
   ]
  },
  {
   "cell_type": "code",
   "execution_count": 81,
   "metadata": {},
   "outputs": [],
   "source": [
    "X = roadQuality[['meanSpeed', 'sdSpeed', 'maxAccelX', 'maxAccelY', 'maxAccelZ', 'maxGyroX', \n",
    "       'maxGyroY', 'maxGyroZ', 'minAccelX', 'minAccelY', 'minAccelZ', 'minGyroX', \n",
    "       'minGyroY', 'minGyroZ', 'meanAccelX', 'meanAccelY', 'meanAccelZ', \n",
    "       'meanGyroX', 'meanGyroY', 'meanGyroZ', 'sdAccelX', 'sdAccelY', 'sdAccelZ', \n",
    "       'sdGyroX', 'sdGyroY', 'sdGyroZ']]\n",
    "y = roadQuality[[\"condition\"]]"
   ]
  },
  {
   "cell_type": "code",
   "execution_count": 82,
   "metadata": {},
   "outputs": [],
   "source": [
    "X_train, X_test, y_train, y_test = train_test_split(X, y, test_size=0.33, random_state=42,stratify=y)"
   ]
  },
  {
   "cell_type": "code",
   "execution_count": 83,
   "metadata": {},
   "outputs": [
    {
     "data": {
      "text/plain": [
       "0    249\n",
       "1     58\n",
       "Name: condition, dtype: int64"
      ]
     },
     "execution_count": 83,
     "metadata": {},
     "output_type": "execute_result"
    }
   ],
   "source": [
    "pd.value_counts(y_train[\"condition\"])"
   ]
  },
  {
   "cell_type": "code",
   "execution_count": 84,
   "metadata": {},
   "outputs": [
    {
     "data": {
      "text/plain": [
       "0    124\n",
       "1     28\n",
       "Name: condition, dtype: int64"
      ]
     },
     "execution_count": 84,
     "metadata": {},
     "output_type": "execute_result"
    }
   ],
   "source": [
    "pd.value_counts(y_test[\"condition\"])"
   ]
  },
  {
   "cell_type": "code",
   "execution_count": 96,
   "metadata": {},
   "outputs": [
    {
     "name": "stdout",
     "output_type": "stream",
     "text": [
      "Final SVM Test Accuracy:  0.9210526315789473\n"
     ]
    },
    {
     "data": {
      "image/png": "[encoded data removed]",
      "text/plain": [
       "<Figure size 576x432 with 1 Axes>"
      ]
     },
     "metadata": {
      "needs_background": "light"
     },
     "output_type": "display_data"
    }
   ],
   "source": [
    "Cs = [1, 50, 100, 150, 200, 250, 300, 350, 400, 450, 500]\n",
    "cvAccuracy = []\n",
    "trainMisclassRate = []\n",
    "testMisclassRate = []\n",
    "\n",
    "for c in Cs:\n",
    "    clf = SVC(C=c)\n",
    "    scores = cross_val_score(clf, X,y, cv=5)\n",
    "    cvAccuracy.append(np.mean(scores))\n",
    "    clf.fit(X_train,y_train)\n",
    "    y_fitted = clf.predict(X_train)\n",
    "    y_pred = clf.predict(X_test)\n",
    "    trainMisclassRate.append(np.mean(y_fitted!=np.array(y_train[\"condition\"])))\n",
    "    testMisclassRate.append(np.mean(y_pred!=np.array(y_test[\"condition\"])))\n",
    "\n",
    "plt.figure(figsize=(8,6))\n",
    "plt.plot(Cs, trainMisclassRate, label=\"Training Set\")\n",
    "plt.plot(Cs, testMisclassRate, label=\"Test Set\")\n",
    "plt.legend(loc='upper right', fontsize=14)\n",
    "plt.title('Misclassification Rate vs. SVM C Parameter', fontsize=14)\n",
    "plt.xlabel('C', fontsize=14)\n",
    "plt.ylabel('Misclassification Rate', fontsize=14)\n",
    "\n",
    "# Final SVM Classifier\n",
    "clf = SVC(C=150)\n",
    "clf.fit(X_train,y_train)\n",
    "y_pred = clf.predict(X_test)\n",
    "accuracy = np.mean(y_pred==np.array(y_test[\"condition\"]))\n",
    "print (\"Final SVM Test Accuracy: \", accuracy)"
   ]
  },
  {
   "cell_type": "code",
   "execution_count": 97,
   "metadata": {},
   "outputs": [
    {
     "data": {
      "text/plain": [
       "array([[120,   4],\n",
       "       [  8,  20]])"
      ]
     },
     "execution_count": 97,
     "metadata": {},
     "output_type": "execute_result"
    }
   ],
   "source": [
    "confusion_matrix(y_test, y_pred)"
   ]
  },
  {
   "cell_type": "code",
   "execution_count": 98,
   "metadata": {},
   "outputs": [
    {
     "name": "stdout",
     "output_type": "stream",
     "text": [
      "              precision    recall  f1-score   support\n",
      "\n",
      "           0       0.94      0.97      0.95       124\n",
      "           1       0.83      0.71      0.77        28\n",
      "\n",
      "    accuracy                           0.92       152\n",
      "   macro avg       0.89      0.84      0.86       152\n",
      "weighted avg       0.92      0.92      0.92       152\n",
      "\n"
     ]
    }
   ],
   "source": [
    "a = classification_report(y_test, y_pred)\n",
    "print (a)"
   ]
  },
  {
   "cell_type": "code",
   "execution_count": 99,
   "metadata": {},
   "outputs": [
    {
     "name": "stdout",
     "output_type": "stream",
     "text": [
      "Final Logistic Test Accuracy:  0.9407894736842105\n"
     ]
    },
    {
     "data": {
      "image/png": "[encoded data removed]",
      "text/plain": [
       "<Figure size 576x432 with 1 Axes>"
      ]
     },
     "metadata": {
      "needs_background": "light"
     },
     "output_type": "display_data"
    }
   ],
   "source": [
    "#logistic regression\n",
    "Cs = [1, 50, 100, 150, 200, 250, 300, 350, 400, 450, 500]\n",
    "cvAccuracy = []\n",
    "trainMisclassRate = []\n",
    "testMisclassRate = []\n",
    "for c in Cs:\n",
    "    clf = LogisticRegression(C=c)\n",
    "    scores = cross_val_score(clf, X,y, cv=5)\n",
    "    cvAccuracy.append(np.mean(scores))\n",
    "    clf.fit(X_train,y_train)\n",
    "    y_fitted = clf.predict(X_train)\n",
    "    y_pred = clf.predict(X_test)\n",
    "    trainMisclassRate.append(np.mean(y_fitted!=np.array(y_train[\"condition\"])))\n",
    "    testMisclassRate.append(np.mean(y_pred!=np.array(y_test[\"condition\"])))\n",
    "\n",
    "plt.figure(figsize=(8,6))\n",
    "plt.plot(Cs, trainMisclassRate, label=\"Training Set\")\n",
    "plt.plot(Cs, testMisclassRate, label=\"Test Set\")\n",
    "plt.legend(loc='upper right', fontsize=14)\n",
    "plt.title('Misclassification Rate vs. Logistic C Parameter', fontsize=14)\n",
    "plt.xlabel('C', fontsize=14)\n",
    "plt.ylabel('Misclassification Rate', fontsize=14)\n",
    "\n",
    "# Final Logistic Classifier\n",
    "clf = LogisticRegression(C=250)\n",
    "clf.fit(X_train,y_train)\n",
    "y_pred = clf.predict(X_test)\n",
    "accuracy = np.mean(y_pred==np.array(y_test[\"condition\"]))\n",
    "print (\"Final Logistic Test Accuracy: \", accuracy)"
   ]
  },
  {
   "cell_type": "code",
   "execution_count": 100,
   "metadata": {},
   "outputs": [
    {
     "data": {
      "text/plain": [
       "array([[121,   3],\n",
       "       [  6,  22]])"
      ]
     },
     "execution_count": 100,
     "metadata": {},
     "output_type": "execute_result"
    }
   ],
   "source": [
    "confusion_matrix(y_test, y_pred)"
   ]
  },
  {
   "cell_type": "code",
   "execution_count": 101,
   "metadata": {},
   "outputs": [
    {
     "name": "stdout",
     "output_type": "stream",
     "text": [
      "              precision    recall  f1-score   support\n",
      "\n",
      "           0       0.95      0.98      0.96       124\n",
      "           1       0.88      0.79      0.83        28\n",
      "\n",
      "    accuracy                           0.94       152\n",
      "   macro avg       0.92      0.88      0.90       152\n",
      "weighted avg       0.94      0.94      0.94       152\n",
      "\n"
     ]
    }
   ],
   "source": [
    "a = classification_report(y_test, y_pred)\n",
    "print (a)"
   ]
  },
  {
   "cell_type": "code",
   "execution_count": 102,
   "metadata": {},
   "outputs": [
    {
     "name": "stdout",
     "output_type": "stream",
     "text": [
      "Final Random Forest Test Accuracy:  0.9078947368421053\n"
     ]
    },
    {
     "data": {
      "image/png": "[encoded data removed]",
      "text/plain": [
       "<Figure size 576x432 with 1 Axes>"
      ]
     },
     "metadata": {
      "needs_background": "light"
     },
     "output_type": "display_data"
    }
   ],
   "source": [
    "Cs = [1,2,3,4,5,6,7,8,9,10]\n",
    "cvAccuracy = []\n",
    "trainMisclassRate = []\n",
    "testMisclassRate = []\n",
    "\n",
    "\n",
    "\n",
    "for c in Cs:\n",
    "    clf = RandomForestClassifier(n_estimators=c)\n",
    "    scores = cross_val_score(clf, X,y, cv=5)\n",
    "    cvAccuracy.append(np.mean(scores))\n",
    "    clf.fit(X_train,y_train)\n",
    "    y_fitted = clf.predict(X_train)\n",
    "    y_pred = clf.predict(X_test)\n",
    "    trainMisclassRate.append(np.mean(y_fitted!=np.array(y_train[\"condition\"])))\n",
    "    testMisclassRate.append(np.mean(y_pred!=np.array(y_test[\"condition\"])))\n",
    "\n",
    "\n",
    "plt.figure(figsize=(8,6))\n",
    "plt.plot(Cs, trainMisclassRate, label=\"Training Set\")\n",
    "plt.plot(Cs, testMisclassRate, label=\"Test Set\")\n",
    "plt.legend(loc='upper right', fontsize=14)\n",
    "plt.title('Misclassification Rate vs. Trees', fontsize=14)\n",
    "plt.xlabel('C', fontsize=14)\n",
    "plt.ylabel('Misclassification Rate', fontsize=14)\n",
    "\n",
    "# Final Random Forest Classifier\n",
    "clf = RandomForestClassifier(n_estimators=6)\n",
    "clf.fit(X_train,y_train)\n",
    "y_pred = clf.predict(X_test)\n",
    "accuracy = np.mean(y_pred==np.array(y_test[\"condition\"]))\n",
    "print (\"Final Random Forest Test Accuracy: \", accuracy)"
   ]
  },
  {
   "cell_type": "code",
   "execution_count": 103,
   "metadata": {},
   "outputs": [
    {
     "data": {
      "text/plain": [
       "array([[119,   5],\n",
       "       [  9,  19]])"
      ]
     },
     "execution_count": 103,
     "metadata": {},
     "output_type": "execute_result"
    }
   ],
   "source": [
    "confusion_matrix(y_test, y_pred)"
   ]
  },
  {
   "cell_type": "code",
   "execution_count": 104,
   "metadata": {},
   "outputs": [
    {
     "name": "stdout",
     "output_type": "stream",
     "text": [
      "              precision    recall  f1-score   support\n",
      "\n",
      "           0       0.93      0.96      0.94       124\n",
      "           1       0.79      0.68      0.73        28\n",
      "\n",
      "    accuracy                           0.91       152\n",
      "   macro avg       0.86      0.82      0.84       152\n",
      "weighted avg       0.90      0.91      0.91       152\n",
      "\n"
     ]
    }
   ],
   "source": [
    "a = classification_report(y_test, y_pred)\n",
    "print (a)"
   ]
  },
  {
   "cell_type": "code",
   "execution_count": 105,
   "metadata": {},
   "outputs": [
    {
     "name": "stdout",
     "output_type": "stream",
     "text": [
      "######################### Confusion_Matrix #########################\n"
     ]
    },
    {
     "data": {
      "image/png": "[encoded data removed]",
      "text/plain": [
       "<Figure size 360x360 with 2 Axes>"
      ]
     },
     "metadata": {
      "needs_background": "light"
     },
     "output_type": "display_data"
    },
    {
     "name": "stdout",
     "output_type": "stream",
     "text": [
      "######################### Precision #########################\n"
     ]
    },
    {
     "data": {
      "image/png": "[encoded data removed]",
      "text/plain": [
       "<Figure size 360x360 with 2 Axes>"
      ]
     },
     "metadata": {
      "needs_background": "light"
     },
     "output_type": "display_data"
    },
    {
     "name": "stdout",
     "output_type": "stream",
     "text": [
      "######################### Recall #########################\n"
     ]
    },
    {
     "data": {
      "image/png": "[encoded data removed]",
      "text/plain": [
       "<Figure size 360x360 with 2 Axes>"
      ]
     },
     "metadata": {
      "needs_background": "light"
     },
     "output_type": "display_data"
    }
   ],
   "source": [
    "conf_matrix(y_test,y_pred)"
   ]
  },
  {
   "cell_type": "code",
   "execution_count": null,
   "metadata": {},
   "outputs": [],
   "source": []
  }
 ],
 "metadata": {
  "kernelspec": {
   "display_name": "Python 3",
   "language": "python",
   "name": "python3"
  },
  "language_info": {
   "codemirror_mode": {
    "name": "ipython",
    "version": 3
   },
   "file_extension": ".py",
   "mimetype": "text/x-python",
   "name": "python",
   "nbconvert_exporter": "python",
   "pygments_lexer": "ipython3",
   "version": "3.7.4"
  }
 },
 "nbformat": 4,
 "nbformat_minor": 2
}
