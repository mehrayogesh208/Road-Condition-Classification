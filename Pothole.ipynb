{
 "cells": [
  {
   "cell_type": "markdown",
   "metadata": {},
   "source": [
    "# Pothole Classification"
   ]
  },
  {
   "cell_type": "markdown",
   "metadata": {},
   "source": [
    "In this notebook we will try to analyze the data inorder to draw various insights from the data,which will help us in bringing a machine learning solution that will classify  whether the pothole is present or not."
   ]
  },
  {
   "cell_type": "markdown",
   "metadata": {},
   "source": [
    "<h3> Data Overview </h3>"
   ]
  },
  {
   "cell_type": "raw",
   "metadata": {},
   "source": [
    "There are two files for each of the five trips:-\n",
    "    1.) sensors.csv\n",
    "    2.) potholes.csv\n",
    "sensors.csv contains the following features:\n",
    "    1.)timestamp\n",
    "    2.)latitude\n",
    "    3.)longitude\n",
    "    4.)speed\n",
    "    5.)accelerometerX\n",
    "    6.)accelerometerY\n",
    "    7.)accelerometerZ\n",
    "    8.)gyroX\n",
    "    9.)gyroY\n",
    "    10.)gyroZ\n",
    "    \n",
    "potholes.csv contains the timestamps at which potholes were marked during data collection"
   ]
  },
  {
   "cell_type": "code",
   "execution_count": 1,
   "metadata": {},
   "outputs": [],
   "source": [
    "#Importing various libraries\n",
    "import pandas as pd\n",
    "import numpy as np\n",
    "import warnings\n",
    "import seaborn as sns\n",
    "warnings.filterwarnings('ignore')"
   ]
  },
  {
   "cell_type": "code",
   "execution_count": 22,
   "metadata": {},
   "outputs": [],
   "source": [
    "sensor_data = pd.read_csv('Pothole_Data/trip5_sensors.csv')"
   ]
  },
  {
   "cell_type": "code",
   "execution_count": 32,
   "metadata": {},
   "outputs": [
    {
     "data": {
      "text/html": [
       "<div>\n",
       "<style scoped>\n",
       "    .dataframe tbody tr th:only-of-type {\n",
       "        vertical-align: middle;\n",
       "    }\n",
       "\n",
       "    .dataframe tbody tr th {\n",
       "        vertical-align: top;\n",
       "    }\n",
       "\n",
       "    .dataframe thead th {\n",
       "        text-align: right;\n",
       "    }\n",
       "</style>\n",
       "<table border=\"1\" class=\"dataframe\">\n",
       "  <thead>\n",
       "    <tr style=\"text-align: right;\">\n",
       "      <th></th>\n",
       "      <th>timestamp</th>\n",
       "      <th>latitude</th>\n",
       "      <th>longitude</th>\n",
       "      <th>speed</th>\n",
       "      <th>accelerometerX</th>\n",
       "      <th>accelerometerY</th>\n",
       "      <th>accelerometerZ</th>\n",
       "      <th>gyroX</th>\n",
       "      <th>gyroY</th>\n",
       "      <th>gyroZ</th>\n",
       "    </tr>\n",
       "  </thead>\n",
       "  <tbody>\n",
       "    <tr>\n",
       "      <td>0</td>\n",
       "      <td>1.493004e+09</td>\n",
       "      <td>40.447526</td>\n",
       "      <td>-79.944193</td>\n",
       "      <td>0.0</td>\n",
       "      <td>0.217667</td>\n",
       "      <td>-0.980042</td>\n",
       "      <td>0.158340</td>\n",
       "      <td>0.032960</td>\n",
       "      <td>0.048734</td>\n",
       "      <td>0.107899</td>\n",
       "    </tr>\n",
       "    <tr>\n",
       "      <td>1</td>\n",
       "      <td>1.493004e+09</td>\n",
       "      <td>40.447526</td>\n",
       "      <td>-79.944193</td>\n",
       "      <td>0.0</td>\n",
       "      <td>0.011353</td>\n",
       "      <td>-0.946930</td>\n",
       "      <td>0.212097</td>\n",
       "      <td>0.023599</td>\n",
       "      <td>-0.087376</td>\n",
       "      <td>0.017527</td>\n",
       "    </tr>\n",
       "    <tr>\n",
       "      <td>2</td>\n",
       "      <td>1.493004e+09</td>\n",
       "      <td>40.447526</td>\n",
       "      <td>-79.944193</td>\n",
       "      <td>0.0</td>\n",
       "      <td>0.023651</td>\n",
       "      <td>-0.956955</td>\n",
       "      <td>0.208115</td>\n",
       "      <td>-0.009587</td>\n",
       "      <td>0.005381</td>\n",
       "      <td>0.003087</td>\n",
       "    </tr>\n",
       "    <tr>\n",
       "      <td>3</td>\n",
       "      <td>1.493004e+09</td>\n",
       "      <td>40.447526</td>\n",
       "      <td>-79.944193</td>\n",
       "      <td>0.0</td>\n",
       "      <td>0.061081</td>\n",
       "      <td>-0.956085</td>\n",
       "      <td>0.201462</td>\n",
       "      <td>-0.014854</td>\n",
       "      <td>0.001160</td>\n",
       "      <td>-0.003354</td>\n",
       "    </tr>\n",
       "    <tr>\n",
       "      <td>4</td>\n",
       "      <td>1.493004e+09</td>\n",
       "      <td>40.447526</td>\n",
       "      <td>-79.944193</td>\n",
       "      <td>0.0</td>\n",
       "      <td>0.070160</td>\n",
       "      <td>-0.956467</td>\n",
       "      <td>0.194504</td>\n",
       "      <td>-0.012799</td>\n",
       "      <td>-0.000980</td>\n",
       "      <td>0.000938</td>\n",
       "    </tr>\n",
       "    <tr>\n",
       "      <td>5</td>\n",
       "      <td>1.493004e+09</td>\n",
       "      <td>40.447526</td>\n",
       "      <td>-79.944193</td>\n",
       "      <td>0.0</td>\n",
       "      <td>0.061966</td>\n",
       "      <td>-0.952271</td>\n",
       "      <td>0.196854</td>\n",
       "      <td>-0.012831</td>\n",
       "      <td>-0.005235</td>\n",
       "      <td>0.000948</td>\n",
       "    </tr>\n",
       "    <tr>\n",
       "      <td>6</td>\n",
       "      <td>1.493004e+09</td>\n",
       "      <td>40.447526</td>\n",
       "      <td>-79.944193</td>\n",
       "      <td>0.0</td>\n",
       "      <td>0.070007</td>\n",
       "      <td>-0.952316</td>\n",
       "      <td>0.196289</td>\n",
       "      <td>-0.011765</td>\n",
       "      <td>-0.003114</td>\n",
       "      <td>0.002020</td>\n",
       "    </tr>\n",
       "    <tr>\n",
       "      <td>7</td>\n",
       "      <td>1.493004e+09</td>\n",
       "      <td>40.447526</td>\n",
       "      <td>-79.944193</td>\n",
       "      <td>0.0</td>\n",
       "      <td>0.054047</td>\n",
       "      <td>-0.957733</td>\n",
       "      <td>0.198166</td>\n",
       "      <td>-0.011683</td>\n",
       "      <td>0.000076</td>\n",
       "      <td>-0.002252</td>\n",
       "    </tr>\n",
       "    <tr>\n",
       "      <td>8</td>\n",
       "      <td>1.493004e+09</td>\n",
       "      <td>40.447526</td>\n",
       "      <td>-79.944193</td>\n",
       "      <td>0.0</td>\n",
       "      <td>0.067413</td>\n",
       "      <td>-0.959885</td>\n",
       "      <td>0.198181</td>\n",
       "      <td>-0.012815</td>\n",
       "      <td>-0.003108</td>\n",
       "      <td>0.000943</td>\n",
       "    </tr>\n",
       "    <tr>\n",
       "      <td>9</td>\n",
       "      <td>1.493004e+09</td>\n",
       "      <td>40.447526</td>\n",
       "      <td>-79.944193</td>\n",
       "      <td>0.0</td>\n",
       "      <td>0.057480</td>\n",
       "      <td>-0.955154</td>\n",
       "      <td>0.197617</td>\n",
       "      <td>-0.013857</td>\n",
       "      <td>-0.002037</td>\n",
       "      <td>-0.000137</td>\n",
       "    </tr>\n",
       "  </tbody>\n",
       "</table>\n",
       "</div>"
      ],
      "text/plain": [
       "      timestamp   latitude  longitude  speed  accelerometerX  accelerometerY  \\\n",
       "0  1.493004e+09  40.447526 -79.944193    0.0        0.217667       -0.980042   \n",
       "1  1.493004e+09  40.447526 -79.944193    0.0        0.011353       -0.946930   \n",
       "2  1.493004e+09  40.447526 -79.944193    0.0        0.023651       -0.956955   \n",
       "3  1.493004e+09  40.447526 -79.944193    0.0        0.061081       -0.956085   \n",
       "4  1.493004e+09  40.447526 -79.944193    0.0        0.070160       -0.956467   \n",
       "5  1.493004e+09  40.447526 -79.944193    0.0        0.061966       -0.952271   \n",
       "6  1.493004e+09  40.447526 -79.944193    0.0        0.070007       -0.952316   \n",
       "7  1.493004e+09  40.447526 -79.944193    0.0        0.054047       -0.957733   \n",
       "8  1.493004e+09  40.447526 -79.944193    0.0        0.067413       -0.959885   \n",
       "9  1.493004e+09  40.447526 -79.944193    0.0        0.057480       -0.955154   \n",
       "\n",
       "   accelerometerZ     gyroX     gyroY     gyroZ  \n",
       "0        0.158340  0.032960  0.048734  0.107899  \n",
       "1        0.212097  0.023599 -0.087376  0.017527  \n",
       "2        0.208115 -0.009587  0.005381  0.003087  \n",
       "3        0.201462 -0.014854  0.001160 -0.003354  \n",
       "4        0.194504 -0.012799 -0.000980  0.000938  \n",
       "5        0.196854 -0.012831 -0.005235  0.000948  \n",
       "6        0.196289 -0.011765 -0.003114  0.002020  \n",
       "7        0.198166 -0.011683  0.000076 -0.002252  \n",
       "8        0.198181 -0.012815 -0.003108  0.000943  \n",
       "9        0.197617 -0.013857 -0.002037 -0.000137  "
      ]
     },
     "execution_count": 32,
     "metadata": {},
     "output_type": "execute_result"
    }
   ],
   "source": [
    "sensor_data.head(10)"
   ]
  },
  {
   "cell_type": "code",
   "execution_count": 33,
   "metadata": {},
   "outputs": [],
   "source": [
    "pothole_data = pd.read_csv('Pothole_Data/trip5_potholes.csv')"
   ]
  },
  {
   "cell_type": "code",
   "execution_count": 34,
   "metadata": {},
   "outputs": [
    {
     "data": {
      "text/html": [
       "<div>\n",
       "<style scoped>\n",
       "    .dataframe tbody tr th:only-of-type {\n",
       "        vertical-align: middle;\n",
       "    }\n",
       "\n",
       "    .dataframe tbody tr th {\n",
       "        vertical-align: top;\n",
       "    }\n",
       "\n",
       "    .dataframe thead th {\n",
       "        text-align: right;\n",
       "    }\n",
       "</style>\n",
       "<table border=\"1\" class=\"dataframe\">\n",
       "  <thead>\n",
       "    <tr style=\"text-align: right;\">\n",
       "      <th></th>\n",
       "      <th>timestamp</th>\n",
       "    </tr>\n",
       "  </thead>\n",
       "  <tbody>\n",
       "    <tr>\n",
       "      <td>0</td>\n",
       "      <td>1.493004e+09</td>\n",
       "    </tr>\n",
       "    <tr>\n",
       "      <td>1</td>\n",
       "      <td>1.493004e+09</td>\n",
       "    </tr>\n",
       "    <tr>\n",
       "      <td>2</td>\n",
       "      <td>1.493004e+09</td>\n",
       "    </tr>\n",
       "    <tr>\n",
       "      <td>3</td>\n",
       "      <td>1.493004e+09</td>\n",
       "    </tr>\n",
       "    <tr>\n",
       "      <td>4</td>\n",
       "      <td>1.493004e+09</td>\n",
       "    </tr>\n",
       "    <tr>\n",
       "      <td>5</td>\n",
       "      <td>1.493004e+09</td>\n",
       "    </tr>\n",
       "    <tr>\n",
       "      <td>6</td>\n",
       "      <td>1.493004e+09</td>\n",
       "    </tr>\n",
       "    <tr>\n",
       "      <td>7</td>\n",
       "      <td>1.493004e+09</td>\n",
       "    </tr>\n",
       "    <tr>\n",
       "      <td>8</td>\n",
       "      <td>1.493004e+09</td>\n",
       "    </tr>\n",
       "    <tr>\n",
       "      <td>9</td>\n",
       "      <td>1.493004e+09</td>\n",
       "    </tr>\n",
       "    <tr>\n",
       "      <td>10</td>\n",
       "      <td>1.493004e+09</td>\n",
       "    </tr>\n",
       "    <tr>\n",
       "      <td>11</td>\n",
       "      <td>1.493004e+09</td>\n",
       "    </tr>\n",
       "    <tr>\n",
       "      <td>12</td>\n",
       "      <td>1.493004e+09</td>\n",
       "    </tr>\n",
       "    <tr>\n",
       "      <td>13</td>\n",
       "      <td>1.493004e+09</td>\n",
       "    </tr>\n",
       "    <tr>\n",
       "      <td>14</td>\n",
       "      <td>1.493004e+09</td>\n",
       "    </tr>\n",
       "    <tr>\n",
       "      <td>15</td>\n",
       "      <td>1.493004e+09</td>\n",
       "    </tr>\n",
       "    <tr>\n",
       "      <td>16</td>\n",
       "      <td>1.493004e+09</td>\n",
       "    </tr>\n",
       "    <tr>\n",
       "      <td>17</td>\n",
       "      <td>1.493004e+09</td>\n",
       "    </tr>\n",
       "  </tbody>\n",
       "</table>\n",
       "</div>"
      ],
      "text/plain": [
       "       timestamp\n",
       "0   1.493004e+09\n",
       "1   1.493004e+09\n",
       "2   1.493004e+09\n",
       "3   1.493004e+09\n",
       "4   1.493004e+09\n",
       "5   1.493004e+09\n",
       "6   1.493004e+09\n",
       "7   1.493004e+09\n",
       "8   1.493004e+09\n",
       "9   1.493004e+09\n",
       "10  1.493004e+09\n",
       "11  1.493004e+09\n",
       "12  1.493004e+09\n",
       "13  1.493004e+09\n",
       "14  1.493004e+09\n",
       "15  1.493004e+09\n",
       "16  1.493004e+09\n",
       "17  1.493004e+09"
      ]
     },
     "execution_count": 34,
     "metadata": {},
     "output_type": "execute_result"
    }
   ],
   "source": [
    "pothole_data"
   ]
  },
  {
   "cell_type": "code",
   "execution_count": 2,
   "metadata": {},
   "outputs": [],
   "source": [
    "def isPothole(start,end,df_pothole):\n",
    "    timestamp = df_pothole['timestamp']\n",
    "    for time in timestamp:\n",
    "        if start < time and time <= end:\n",
    "            return True\n",
    "    return False\n",
    "    \n",
    "\n",
    "    "
   ]
  },
  {
   "cell_type": "code",
   "execution_count": 3,
   "metadata": {},
   "outputs": [],
   "source": [
    "def convert_to_interval(df_sensor,df_pothole):\n",
    "    len_sensor = len(df_sensor)\n",
    "    data = list()\n",
    "    for k in range(0,len_sensor,10):\n",
    "        current_interval = df_sensor[k:k+10]\n",
    "        meanSpeed = current_interval['speed'].mean()\n",
    "        sdSpeed = current_interval['speed'].std()\n",
    "        maxAccelX = max(current_interval['accelerometerX'])\n",
    "        maxAccelY = max(current_interval['accelerometerY'])\n",
    "        maxAccelZ = max(current_interval['accelerometerZ'])\n",
    "        maxGyroX = max(current_interval['gyroX'])\n",
    "        maxGyroY = max(current_interval['gyroY'])\n",
    "        maxGyroZ = max(current_interval['gyroZ'])\n",
    "        minAccelX = min(current_interval['accelerometerX'])\n",
    "        minAccelY = min(current_interval['accelerometerY'])\n",
    "        minAccelZ = min(current_interval['accelerometerZ'])\n",
    "        minGyroX = min(current_interval['gyroX'])\n",
    "        minGyroY = min(current_interval['gyroY'])\n",
    "        minGyroZ = min(current_interval['gyroZ'])\n",
    "        meanAccelX = current_interval['accelerometerX'].mean()\n",
    "        meanAccelY = current_interval['accelerometerY'].mean()\n",
    "        meanAccelZ = current_interval['accelerometerZ'].mean()\n",
    "        sdAccelX = current_interval['accelerometerX'].std()\n",
    "        sdAccelY = current_interval['accelerometerY'].std()\n",
    "        sdAccelZ = current_interval['accelerometerZ'].std()\n",
    "        meanGyroX = current_interval['gyroX'].mean()\n",
    "        meanGyroY = current_interval['gyroY'].mean()\n",
    "        meanGyroZ = current_interval['gyroZ'].mean()\n",
    "        sdGyroX = current_interval['gyroX'].std()\n",
    "        sdGyroY = current_interval['gyroY'].std()\n",
    "        sdGyroZ = current_interval['gyroZ'].std()\n",
    "        pothole = isPothole(list(current_interval['timestamp'])[0],list(current_interval['timestamp'])[-1],df_pothole)\n",
    "        datapoint = [meanSpeed, sdSpeed, maxAccelX, maxAccelY, maxAccelZ, maxGyroX, maxGyroY, \n",
    "                           maxGyroZ, minAccelX, minAccelY, minAccelZ, minGyroX, minGyroY, minGyroZ, \n",
    "                           meanAccelX, meanAccelY, meanAccelZ, meanGyroX, meanGyroY, meanGyroZ,\n",
    "                           sdAccelX, sdAccelY, sdAccelZ, sdGyroX, sdGyroY, sdGyroZ, pothole]\n",
    "        data.append(datapoint)\n",
    "    df = pd.DataFrame.from_records(data)\n",
    "    df.columns = [\"meanSpeed\", \"sdSpeed\", \"maxAccelX\", \"maxAccelY\", \"maxAccelZ\", \"maxGyroX\", \"maxGyroY\", \n",
    "                           \"maxGyroZ\", \"minAccelX\", \"minAccelY\", \"minAccelZ\", \"minGyroX\", \"minGyroY\", \"minGyroZ\", \n",
    "                           \"meanAccelX\", \"meanAccelY\", \"meanAccelZ\", \"meanGyroX\", \"meanGyroY\", \"meanGyroZ\",\n",
    "                           \"sdAccelX\", \"sdAccelY\", \"sdAccelZ\", \"sdGyroX\", \"sdGyroY\", \"sdGyroZ\", \"pothole\"]\n",
    "    \n",
    "    return df\n",
    "    \n",
    "\n",
    "\n",
    "    \n",
    "    \n",
    "    \n",
    "    \n",
    "    \n",
    "    \n",
    "    \n",
    "    \n",
    "    \n",
    "    \n",
    "    \n",
    "    \n",
    "    \n",
    "    \n",
    "    \n",
    "    "
   ]
  },
  {
   "cell_type": "code",
   "execution_count": 4,
   "metadata": {},
   "outputs": [
    {
     "data": {
      "text/html": [
       "<div>\n",
       "<style scoped>\n",
       "    .dataframe tbody tr th:only-of-type {\n",
       "        vertical-align: middle;\n",
       "    }\n",
       "\n",
       "    .dataframe tbody tr th {\n",
       "        vertical-align: top;\n",
       "    }\n",
       "\n",
       "    .dataframe thead th {\n",
       "        text-align: right;\n",
       "    }\n",
       "</style>\n",
       "<table border=\"1\" class=\"dataframe\">\n",
       "  <thead>\n",
       "    <tr style=\"text-align: right;\">\n",
       "      <th></th>\n",
       "      <th>meanSpeed</th>\n",
       "      <th>sdSpeed</th>\n",
       "      <th>maxAccelX</th>\n",
       "      <th>maxAccelY</th>\n",
       "      <th>maxAccelZ</th>\n",
       "      <th>maxGyroX</th>\n",
       "      <th>maxGyroY</th>\n",
       "      <th>maxGyroZ</th>\n",
       "      <th>minAccelX</th>\n",
       "      <th>minAccelY</th>\n",
       "      <th>...</th>\n",
       "      <th>meanGyroX</th>\n",
       "      <th>meanGyroY</th>\n",
       "      <th>meanGyroZ</th>\n",
       "      <th>sdAccelX</th>\n",
       "      <th>sdAccelY</th>\n",
       "      <th>sdAccelZ</th>\n",
       "      <th>sdGyroX</th>\n",
       "      <th>sdGyroY</th>\n",
       "      <th>sdGyroZ</th>\n",
       "      <th>pothole</th>\n",
       "    </tr>\n",
       "  </thead>\n",
       "  <tbody>\n",
       "    <tr>\n",
       "      <td>0</td>\n",
       "      <td>0.041</td>\n",
       "      <td>0.129653</td>\n",
       "      <td>0.053787</td>\n",
       "      <td>-0.936584</td>\n",
       "      <td>0.295486</td>\n",
       "      <td>-0.007371</td>\n",
       "      <td>0.019259</td>\n",
       "      <td>0.007240</td>\n",
       "      <td>0.016998</td>\n",
       "      <td>-0.963852</td>\n",
       "      <td>...</td>\n",
       "      <td>-0.020783</td>\n",
       "      <td>-0.001779</td>\n",
       "      <td>0.000218</td>\n",
       "      <td>0.011710</td>\n",
       "      <td>0.009103</td>\n",
       "      <td>0.040247</td>\n",
       "      <td>0.010819</td>\n",
       "      <td>0.008888</td>\n",
       "      <td>0.003437</td>\n",
       "      <td>False</td>\n",
       "    </tr>\n",
       "    <tr>\n",
       "      <td>1</td>\n",
       "      <td>1.364</td>\n",
       "      <td>1.024057</td>\n",
       "      <td>0.120621</td>\n",
       "      <td>-0.875656</td>\n",
       "      <td>0.398834</td>\n",
       "      <td>0.022393</td>\n",
       "      <td>0.006554</td>\n",
       "      <td>0.033050</td>\n",
       "      <td>0.026840</td>\n",
       "      <td>-0.943787</td>\n",
       "      <td>...</td>\n",
       "      <td>-0.022780</td>\n",
       "      <td>-0.018999</td>\n",
       "      <td>-0.003276</td>\n",
       "      <td>0.031252</td>\n",
       "      <td>0.022495</td>\n",
       "      <td>0.028734</td>\n",
       "      <td>0.020178</td>\n",
       "      <td>0.019851</td>\n",
       "      <td>0.014961</td>\n",
       "      <td>False</td>\n",
       "    </tr>\n",
       "    <tr>\n",
       "      <td>2</td>\n",
       "      <td>4.436</td>\n",
       "      <td>1.351158</td>\n",
       "      <td>0.120605</td>\n",
       "      <td>-0.906296</td>\n",
       "      <td>0.404266</td>\n",
       "      <td>-0.010554</td>\n",
       "      <td>0.051599</td>\n",
       "      <td>0.018975</td>\n",
       "      <td>0.033325</td>\n",
       "      <td>-0.988800</td>\n",
       "      <td>...</td>\n",
       "      <td>-0.032363</td>\n",
       "      <td>-0.011066</td>\n",
       "      <td>-0.006807</td>\n",
       "      <td>0.024182</td>\n",
       "      <td>0.022507</td>\n",
       "      <td>0.057296</td>\n",
       "      <td>0.022679</td>\n",
       "      <td>0.024039</td>\n",
       "      <td>0.016592</td>\n",
       "      <td>False</td>\n",
       "    </tr>\n",
       "    <tr>\n",
       "      <td>3</td>\n",
       "      <td>7.060</td>\n",
       "      <td>0.575326</td>\n",
       "      <td>0.115387</td>\n",
       "      <td>-0.893860</td>\n",
       "      <td>0.379074</td>\n",
       "      <td>0.067697</td>\n",
       "      <td>-0.015656</td>\n",
       "      <td>0.061929</td>\n",
       "      <td>-0.036392</td>\n",
       "      <td>-0.986603</td>\n",
       "      <td>...</td>\n",
       "      <td>-0.038749</td>\n",
       "      <td>-0.074418</td>\n",
       "      <td>0.020480</td>\n",
       "      <td>0.047576</td>\n",
       "      <td>0.036484</td>\n",
       "      <td>0.068351</td>\n",
       "      <td>0.095503</td>\n",
       "      <td>0.052869</td>\n",
       "      <td>0.028209</td>\n",
       "      <td>False</td>\n",
       "    </tr>\n",
       "    <tr>\n",
       "      <td>4</td>\n",
       "      <td>9.149</td>\n",
       "      <td>0.864902</td>\n",
       "      <td>0.127914</td>\n",
       "      <td>-0.914444</td>\n",
       "      <td>0.357315</td>\n",
       "      <td>0.031195</td>\n",
       "      <td>0.094832</td>\n",
       "      <td>0.056660</td>\n",
       "      <td>0.008118</td>\n",
       "      <td>-1.018906</td>\n",
       "      <td>...</td>\n",
       "      <td>-0.006386</td>\n",
       "      <td>-0.015274</td>\n",
       "      <td>0.014688</td>\n",
       "      <td>0.038033</td>\n",
       "      <td>0.032032</td>\n",
       "      <td>0.052048</td>\n",
       "      <td>0.022819</td>\n",
       "      <td>0.048195</td>\n",
       "      <td>0.032339</td>\n",
       "      <td>False</td>\n",
       "    </tr>\n",
       "  </tbody>\n",
       "</table>\n",
       "<p>5 rows × 27 columns</p>\n",
       "</div>"
      ],
      "text/plain": [
       "   meanSpeed   sdSpeed  maxAccelX  maxAccelY  maxAccelZ  maxGyroX  maxGyroY  \\\n",
       "0      0.041  0.129653   0.053787  -0.936584   0.295486 -0.007371  0.019259   \n",
       "1      1.364  1.024057   0.120621  -0.875656   0.398834  0.022393  0.006554   \n",
       "2      4.436  1.351158   0.120605  -0.906296   0.404266 -0.010554  0.051599   \n",
       "3      7.060  0.575326   0.115387  -0.893860   0.379074  0.067697 -0.015656   \n",
       "4      9.149  0.864902   0.127914  -0.914444   0.357315  0.031195  0.094832   \n",
       "\n",
       "   maxGyroZ  minAccelX  minAccelY  ...  meanGyroX  meanGyroY  meanGyroZ  \\\n",
       "0  0.007240   0.016998  -0.963852  ...  -0.020783  -0.001779   0.000218   \n",
       "1  0.033050   0.026840  -0.943787  ...  -0.022780  -0.018999  -0.003276   \n",
       "2  0.018975   0.033325  -0.988800  ...  -0.032363  -0.011066  -0.006807   \n",
       "3  0.061929  -0.036392  -0.986603  ...  -0.038749  -0.074418   0.020480   \n",
       "4  0.056660   0.008118  -1.018906  ...  -0.006386  -0.015274   0.014688   \n",
       "\n",
       "   sdAccelX  sdAccelY  sdAccelZ   sdGyroX   sdGyroY   sdGyroZ  pothole  \n",
       "0  0.011710  0.009103  0.040247  0.010819  0.008888  0.003437    False  \n",
       "1  0.031252  0.022495  0.028734  0.020178  0.019851  0.014961    False  \n",
       "2  0.024182  0.022507  0.057296  0.022679  0.024039  0.016592    False  \n",
       "3  0.047576  0.036484  0.068351  0.095503  0.052869  0.028209    False  \n",
       "4  0.038033  0.032032  0.052048  0.022819  0.048195  0.032339    False  \n",
       "\n",
       "[5 rows x 27 columns]"
      ]
     },
     "execution_count": 4,
     "metadata": {},
     "output_type": "execute_result"
    }
   ],
   "source": [
    "df = pd.DataFrame(columns=[\"meanSpeed\", \"sdSpeed\", \"maxAccelX\", \"maxAccelY\", \"maxAccelZ\", \"maxGyroX\", \"maxGyroY\", \n",
    "                           \"maxGyroZ\", \"minAccelX\", \"minAccelY\", \"minAccelZ\", \"minGyroX\", \"minGyroY\", \"minGyroZ\", \n",
    "                           \"meanAccelX\", \"meanAccelY\", \"meanAccelZ\", \"meanGyroX\", \"meanGyroY\", \"meanGyroZ\",\n",
    "                           \"sdAccelX\", \"sdAccelY\", \"sdAccelZ\", \"sdGyroX\", \"sdGyroY\", \"sdGyroZ\", \"pothole\"])\n",
    "for i in range(1,6):\n",
    "  \n",
    "    df_sensor = pd.read_csv('Pothole_Data/'+\"trip%s_sensors.csv\" % i)\n",
    "    df_pothole = pd.read_csv('Pothole_Data/'+\"trip%s_potholes.csv\" % i)\n",
    "    trip_df = convert_to_interval(df_sensor,df_pothole)\n",
    "    \n",
    "    #print(trip_df.head(5))\n",
    "    \n",
    "    df = df.append(trip_df,ignore_index=True)\n",
    "    \n",
    "    \n",
    "df.head(5)\n",
    "\n",
    "    \n",
    "    \n",
    "    "
   ]
  },
  {
   "cell_type": "code",
   "execution_count": 5,
   "metadata": {},
   "outputs": [],
   "source": [
    "df.to_csv(\"IntervalPothole.csv\")"
   ]
  },
  {
   "cell_type": "code",
   "execution_count": 6,
   "metadata": {},
   "outputs": [],
   "source": [
    "df = pd.read_csv(\"IntervalPothole.csv\")\n"
   ]
  },
  {
   "cell_type": "code",
   "execution_count": 7,
   "metadata": {},
   "outputs": [
    {
     "data": {
      "text/plain": [
       "(987, 28)"
      ]
     },
     "execution_count": 7,
     "metadata": {},
     "output_type": "execute_result"
    }
   ],
   "source": [
    "df.shape"
   ]
  },
  {
   "cell_type": "markdown",
   "metadata": {},
   "source": [
    "# Classification"
   ]
  },
  {
   "cell_type": "markdown",
   "metadata": {},
   "source": [
    "<h4> Since this is a Binary classification technique we will use various classification algorithm </h4>"
   ]
  },
  {
   "cell_type": "code",
   "execution_count": 8,
   "metadata": {},
   "outputs": [],
   "source": [
    "from sklearn.model_selection import train_test_split\n",
    "from sklearn.svm import SVC\n",
    "from sklearn.model_selection import cross_val_score\n",
    "import matplotlib.pyplot as plt\n",
    "from sklearn.metrics import classification_report\n",
    "from sklearn.metrics import confusion_matrix\n",
    "from sklearn.ensemble import RandomForestClassifier"
   ]
  },
  {
   "cell_type": "code",
   "execution_count": 83,
   "metadata": {},
   "outputs": [],
   "source": [
    "y = df['pothole'].astype(int)\n",
    "X = df[['maxAccelX', 'maxAccelY', 'maxAccelZ', 'maxGyroX', \n",
    "                'maxGyroY', 'maxGyroZ', 'minAccelX', 'minAccelY', 'minAccelZ', 'minGyroX', \n",
    "                'minGyroY', 'minGyroZ', 'meanAccelX', 'meanAccelY', 'meanAccelZ', \n",
    "                'meanGyroX', 'meanGyroY', 'meanGyroZ', 'sdAccelX', 'sdAccelY', 'sdAccelZ', \n",
    "                'sdGyroX', 'sdGyroY', 'sdGyroZ']]\n",
    "X_train, X_test, y_train, y_test = train_test_split(X, y, test_size=0.33, random_state=0)"
   ]
  },
  {
   "cell_type": "code",
   "execution_count": 84,
   "metadata": {},
   "outputs": [
    {
     "name": "stdout",
     "output_type": "stream",
     "text": [
      "No. of points in Train dataset 661\n",
      "No. of points in Test dataset 326\n"
     ]
    }
   ],
   "source": [
    "#No. of data points in Train Dataset,Test dataset,Cross validate Dataset\n",
    "print(\"No. of points in Train dataset\",X_train.shape[0])\n",
    "print(\"No. of points in Test dataset\",X_test.shape[0])\n"
   ]
  },
  {
   "cell_type": "code",
   "execution_count": 89,
   "metadata": {},
   "outputs": [
    {
     "data": {
      "text/plain": [
       "0    615\n",
       "1     46\n",
       "Name: pothole, dtype: int64"
      ]
     },
     "execution_count": 89,
     "metadata": {},
     "output_type": "execute_result"
    }
   ],
   "source": [
    "y_train.value_counts()"
   ]
  },
  {
   "cell_type": "code",
   "execution_count": 90,
   "metadata": {},
   "outputs": [
    {
     "data": {
      "image/png": "[encoded data removed]",
      "text/plain": [
       "<Figure size 432x288 with 1 Axes>"
      ]
     },
     "metadata": {
      "needs_background": "light"
     },
     "output_type": "display_data"
    },
    {
     "name": "stdout",
     "output_type": "stream",
     "text": [
      "Number of data points in class 0 : 615 ( 93.04084720121028% )\n",
      "Number of data points in class 1 : 46 ( 6.959152798789712% )\n"
     ]
    }
   ],
   "source": [
    "#Now lets see the distribution of class label in Train ,Test and Cross validate\n",
    "Train_distribution = ((y_train.value_counts())).sort_index()\n",
    "Train_distribution.plot(kind = 'bar')\n",
    "plt.title('Distribution of potholes in train data')\n",
    "plt.xlabel(\"potholes\")\n",
    "plt.ylabel(\"Data_Points per class\")\n",
    "plt.grid()\n",
    "#print (Train_distribution)\n",
    "plt.show()\n",
    "for i in Train_distribution.sort_values(ascending=False).iteritems():\n",
    "    percentage = (Train_distribution.loc[i[0]]/(y_train.shape[0]))*100\n",
    "    percent = str(percentage)+\"%\"\n",
    "    print (\"Number of data points in class\",i[0],\":\",Train_distribution.loc[i[0]],\"(\",(percent),\")\")\n"
   ]
  },
  {
   "cell_type": "code",
   "execution_count": 91,
   "metadata": {},
   "outputs": [
    {
     "data": {
      "image/png": "[encoded data removed]",
      "text/plain": [
       "<Figure size 432x288 with 1 Axes>"
      ]
     },
     "metadata": {
      "needs_background": "light"
     },
     "output_type": "display_data"
    },
    {
     "name": "stdout",
     "output_type": "stream",
     "text": [
      "Number of data points in class 0 : 293 ( 89.87730061349694% )\n",
      "Number of data points in class 1 : 33 ( 10.122699386503067% )\n"
     ]
    }
   ],
   "source": [
    "Test_distribution = ((y_test.value_counts())).sort_index()\n",
    "Test_distribution.plot(kind = 'bar')\n",
    "plt.title('Distribution of potholes in test data')\n",
    "plt.xlabel(\"potholes\")\n",
    "plt.ylabel(\"Data_Points per class\")\n",
    "plt.grid()\n",
    "\n",
    "plt.show()\n",
    "for i in Test_distribution.sort_values(ascending=False).iteritems():\n",
    "    percentage = (Test_distribution.loc[i[0]]/(y_test.shape[0]))*100\n",
    "    percent = str(percentage)+\"%\"\n",
    "    print (\"Number of data points in class\",i[0],\":\",Test_distribution.loc[i[0]],\"(\",(percent),\")\")\n"
   ]
  },
  {
   "cell_type": "code",
   "execution_count": 104,
   "metadata": {},
   "outputs": [],
   "source": [
    "def conf_matrix(y_test,predicted_y):\n",
    "    labels = [\"false\",\"true\"]\n",
    "    A = confusion_matrix(y_test,predicted_y)\n",
    "    B = (((A.T)/(A.sum(axis=1))).T)\n",
    "    C =(A/A.sum(axis=0))\n",
    "    print (\"#\"*25,\"Confusion_Matrix\",\"#\"*25)\n",
    "    plt.figure(figsize=(4,4))\n",
    "    sns.heatmap(A,annot=True, fmt='.2g', xticklabels=labels, yticklabels=labels,cmap = \"YlGnBu\")\n",
    "    plt.xlabel(\"Predicted class\")\n",
    "    plt.ylabel(\"Original class\")\n",
    "    plt.show()\n",
    "    print (\"#\"*25,\"Precision\",\"#\"*25)\n",
    "    plt.figure(figsize=(4,4))\n",
    "    sns.heatmap(B,annot=True, fmt='.2g', xticklabels=labels, yticklabels=labels,cmap = \"YlGnBu\")\n",
    "    plt.xlabel(\"Predicted class\")\n",
    "    plt.ylabel(\"Original class\")\n",
    "    plt.show()\n",
    "    print (\"#\"*25,\"Recall\",\"#\"*25)\n",
    "    plt.figure(figsize=(4,4))\n",
    "    sns.heatmap(C,annot=True, fmt='.2g', xticklabels=labels, yticklabels=labels,cmap = \"YlGnBu\")\n",
    "    plt.xlabel(\"Predicted class\")\n",
    "    plt.ylabel(\"Original class\")\n",
    "    plt.show()"
   ]
  },
  {
   "cell_type": "markdown",
   "metadata": {},
   "source": [
    "<h3> K Nearest Neighbor(KNN) </h3>"
   ]
  },
  {
   "cell_type": "code",
   "execution_count": 93,
   "metadata": {},
   "outputs": [],
   "source": [
    "from sklearn.metrics import accuracy_score\n",
    "from sklearn.neighbors import KNeighborsClassifier"
   ]
  },
  {
   "cell_type": "code",
   "execution_count": 94,
   "metadata": {},
   "outputs": [
    {
     "data": {
      "text/plain": [
       "Text(0, 0.5, 'accuracy')"
      ]
     },
     "execution_count": 94,
     "metadata": {},
     "output_type": "execute_result"
    },
    {
     "data": {
      "image/png": "[encoded data removed]",
      "text/plain": [
       "<Figure size 576x432 with 1 Axes>"
      ]
     },
     "metadata": {
      "needs_background": "light"
     },
     "output_type": "display_data"
    }
   ],
   "source": [
    "neighbors = [1,2,3,4,5,10,20]\n",
    "cross_val_accuracy = []\n",
    "trainaccuracy = []\n",
    "testaccuracy = []\n",
    "for k in neighbors:\n",
    "    classifier = KNeighborsClassifier(n_neighbors=k)\n",
    "    scores = cross_val_score(classifier,X_train,y_train,cv = 5)\n",
    "    cross_val_accuracy.append(np.mean(scores))\n",
    "    classifier.fit(X_train,y_train)\n",
    "    train_fit_y = classifier.predict(X_train)\n",
    "    test_predict_y = classifier.predict(X_test)\n",
    "    trainaccuracy.append(np.mean(train_fit_y==y_train))\n",
    "    testaccuracy.append(np.mean(test_predict_y==y_test))\n",
    "    \n",
    "    \n",
    "plt.figure(figsize=(8,6))\n",
    "plt.plot(neighbors, trainaccuracy, label=\"Training Set\")\n",
    "plt.plot(neighbors, testaccuracy, label=\"Test Set\")\n",
    "plt.legend(loc='upper right', fontsize=14)\n",
    "plt.title('accuracy vs. k parameter', fontsize=14)\n",
    "plt.xlabel('k', fontsize=14)\n",
    "plt.ylabel('accuracy', fontsize=14)\n",
    "\n"
   ]
  },
  {
   "cell_type": "code",
   "execution_count": 98,
   "metadata": {},
   "outputs": [
    {
     "name": "stdout",
     "output_type": "stream",
     "text": [
      "Final Test Accuracy: 0.9141104294478528\n",
      "\n",
      "Classification Report:\n",
      "              precision    recall  f1-score   support\n",
      "\n",
      "           0       0.93      0.98      0.95       293\n",
      "           1       0.63      0.36      0.46        33\n",
      "\n",
      "    accuracy                           0.91       326\n",
      "   macro avg       0.78      0.67      0.71       326\n",
      "weighted avg       0.90      0.91      0.90       326\n",
      "\n",
      "\n",
      "Confusion matrix:\n"
     ]
    },
    {
     "data": {
      "text/plain": [
       "array([[286,   7],\n",
       "       [ 21,  12]])"
      ]
     },
     "execution_count": 98,
     "metadata": {},
     "output_type": "execute_result"
    }
   ],
   "source": [
    "clf = KNeighborsClassifier(n_neighbors=5)\n",
    "clf.fit(X_train,y_train)\n",
    "y_pred = clf.predict(X_test)\n",
    "accuracy = np.mean(y_pred==y_test)\n",
    "print (\"Final Test Accuracy:\", accuracy)\n",
    "print (\"\\nClassification Report:\")\n",
    "print(classification_report(y_test, y_pred))\n",
    "print (\"\\nConfusion matrix:\")\n",
    "confusion_matrix(y_test, y_pred)"
   ]
  },
  {
   "cell_type": "code",
   "execution_count": 105,
   "metadata": {},
   "outputs": [
    {
     "name": "stdout",
     "output_type": "stream",
     "text": [
      "######################### Confusion_Matrix #########################\n"
     ]
    },
    {
     "data": {
      "image/png": "[encoded data removed]",
      "text/plain": [
       "<Figure size 288x288 with 2 Axes>"
      ]
     },
     "metadata": {
      "needs_background": "light"
     },
     "output_type": "display_data"
    },
    {
     "name": "stdout",
     "output_type": "stream",
     "text": [
      "######################### Precision #########################\n"
     ]
    },
    {
     "data": {
      "image/png": "[encoded data removed]",
      "text/plain": [
       "<Figure size 288x288 with 2 Axes>"
      ]
     },
     "metadata": {
      "needs_background": "light"
     },
     "output_type": "display_data"
    },
    {
     "name": "stdout",
     "output_type": "stream",
     "text": [
      "######################### Recall #########################\n"
     ]
    },
    {
     "data": {
      "image/png": "[encoded data removed]",
      "text/plain": [
       "<Figure size 288x288 with 2 Axes>"
      ]
     },
     "metadata": {
      "needs_background": "light"
     },
     "output_type": "display_data"
    }
   ],
   "source": [
    "conf_matrix(y_test,y_pred)"
   ]
  },
  {
   "cell_type": "markdown",
   "metadata": {},
   "source": [
    "<h3> Logistic Regression </h3>"
   ]
  },
  {
   "cell_type": "code",
   "execution_count": 107,
   "metadata": {},
   "outputs": [
    {
     "data": {
      "text/plain": [
       "Text(0, 0.5, 'accuracy')"
      ]
     },
     "execution_count": 107,
     "metadata": {},
     "output_type": "execute_result"
    },
    {
     "data": {
      "image/png": "[encoded data removed]",
      "text/plain": [
       "<Figure size 576x432 with 1 Axes>"
      ]
     },
     "metadata": {
      "needs_background": "light"
     },
     "output_type": "display_data"
    }
   ],
   "source": [
    "from sklearn.linear_model import LogisticRegression\n",
    "C = [1, 50, 100, 150, 200, 250, 300, 350, 400]\n",
    "cross_val_accuracy = []\n",
    "trainaccuracy = []\n",
    "testaccuracy = []\n",
    "for c in C:\n",
    "    classifier = LogisticRegression(C=c)\n",
    "    scores = cross_val_score(classifier,X_train,y_train,cv = 5)\n",
    "    cross_val_accuracy.append(np.mean(scores))\n",
    "    classifier.fit(X_train,y_train)\n",
    "    train_fit_y = classifier.predict(X_train)\n",
    "    test_predict_y = classifier.predict(X_test)\n",
    "    trainaccuracy.append(np.mean(train_fit_y==y_train))\n",
    "    testaccuracy.append(np.mean(test_predict_y==y_test))\n",
    "    \n",
    "    \n",
    "plt.figure(figsize=(8,6))\n",
    "plt.plot(C, trainaccuracy, label=\"Training Set\")\n",
    "plt.plot(C, testaccuracy, label=\"Test Set\")\n",
    "plt.legend(loc='upper right', fontsize=14)\n",
    "plt.title('accuracy vs. k parameter', fontsize=14)\n",
    "plt.xlabel('k', fontsize=14)\n",
    "plt.ylabel('accuracy', fontsize=14)\n",
    "\n"
   ]
  },
  {
   "cell_type": "code",
   "execution_count": 108,
   "metadata": {},
   "outputs": [
    {
     "name": "stdout",
     "output_type": "stream",
     "text": [
      "Final Test Accuracy: 0.9263803680981595\n",
      "\n",
      "Classification Report:\n",
      "              precision    recall  f1-score   support\n",
      "\n",
      "           0       0.94      0.98      0.96       293\n",
      "           1       0.74      0.42      0.54        33\n",
      "\n",
      "    accuracy                           0.93       326\n",
      "   macro avg       0.84      0.70      0.75       326\n",
      "weighted avg       0.92      0.93      0.92       326\n",
      "\n",
      "\n",
      "Confusion matrix:\n"
     ]
    },
    {
     "data": {
      "text/plain": [
       "array([[288,   5],\n",
       "       [ 19,  14]])"
      ]
     },
     "execution_count": 108,
     "metadata": {},
     "output_type": "execute_result"
    }
   ],
   "source": [
    "clf = LogisticRegression(C=50)\n",
    "clf.fit(X_train,y_train)\n",
    "y_pred = clf.predict(X_test)\n",
    "accuracy = np.mean(y_pred==y_test)\n",
    "print (\"Final Test Accuracy:\", accuracy)\n",
    "print (\"\\nClassification Report:\")\n",
    "print(classification_report(y_test, y_pred))\n",
    "print (\"\\nConfusion matrix:\")\n",
    "confusion_matrix(y_test, y_pred)"
   ]
  },
  {
   "cell_type": "code",
   "execution_count": 109,
   "metadata": {},
   "outputs": [
    {
     "name": "stdout",
     "output_type": "stream",
     "text": [
      "######################### Confusion_Matrix #########################\n"
     ]
    },
    {
     "data": {
      "image/png": "[encoded data removed]",
      "text/plain": [
       "<Figure size 288x288 with 2 Axes>"
      ]
     },
     "metadata": {
      "needs_background": "light"
     },
     "output_type": "display_data"
    },
    {
     "name": "stdout",
     "output_type": "stream",
     "text": [
      "######################### Precision #########################\n"
     ]
    },
    {
     "data": {
      "image/png": "[encoded data removed]",
      "text/plain": [
       "<Figure size 288x288 with 2 Axes>"
      ]
     },
     "metadata": {
      "needs_background": "light"
     },
     "output_type": "display_data"
    },
    {
     "name": "stdout",
     "output_type": "stream",
     "text": [
      "######################### Recall #########################\n"
     ]
    },
    {
     "data": {
      "image/png": "[encoded data removed]",
      "text/plain": [
       "<Figure size 288x288 with 2 Axes>"
      ]
     },
     "metadata": {
      "needs_background": "light"
     },
     "output_type": "display_data"
    }
   ],
   "source": [
    "conf_matrix(y_test,y_pred)"
   ]
  },
  {
   "cell_type": "markdown",
   "metadata": {},
   "source": [
    "<h3> Support Vector Machine </h3>"
   ]
  },
  {
   "cell_type": "code",
   "execution_count": 111,
   "metadata": {},
   "outputs": [
    {
     "data": {
      "text/plain": [
       "Text(0, 0.5, 'accuracy')"
      ]
     },
     "execution_count": 111,
     "metadata": {},
     "output_type": "execute_result"
    },
    {
     "data": {
      "image/png": "[encoded data removed]",
      "text/plain": [
       "<Figure size 576x432 with 1 Axes>"
      ]
     },
     "metadata": {
      "needs_background": "light"
     },
     "output_type": "display_data"
    }
   ],
   "source": [
    "from sklearn.svm import SVC\n",
    "\n",
    "C = [1, 50, 100, 150, 200, 250, 300, 350, 400]\n",
    "cross_val_accuracy = []\n",
    "trainaccuracy = []\n",
    "testaccuracy = []\n",
    "for c in C:\n",
    "    classifier = SVC(C=c)\n",
    "    scores = cross_val_score(classifier,X_train,y_train,cv = 5)\n",
    "    cross_val_accuracy.append(np.mean(scores))\n",
    "    classifier.fit(X_train,y_train)\n",
    "    train_fit_y = classifier.predict(X_train)\n",
    "    test_predict_y = classifier.predict(X_test)\n",
    "    trainaccuracy.append(np.mean(train_fit_y==y_train))\n",
    "    testaccuracy.append(np.mean(test_predict_y==y_test))\n",
    "    \n",
    "    \n",
    "plt.figure(figsize=(8,6))\n",
    "plt.plot(C, trainaccuracy, label=\"Training Set\")\n",
    "plt.plot(C, testaccuracy, label=\"Test Set\")\n",
    "plt.legend(loc='upper right', fontsize=14)\n",
    "plt.title('accuracy vs. k parameter', fontsize=14)\n",
    "plt.xlabel('k', fontsize=14)\n",
    "plt.ylabel('accuracy', fontsize=14)\n",
    "\n"
   ]
  },
  {
   "cell_type": "code",
   "execution_count": 112,
   "metadata": {},
   "outputs": [
    {
     "name": "stdout",
     "output_type": "stream",
     "text": [
      "Final Test Accuracy: 0.9202453987730062\n",
      "\n",
      "Classification Report:\n",
      "              precision    recall  f1-score   support\n",
      "\n",
      "           0       0.93      0.98      0.96       293\n",
      "           1       0.71      0.36      0.48        33\n",
      "\n",
      "    accuracy                           0.92       326\n",
      "   macro avg       0.82      0.67      0.72       326\n",
      "weighted avg       0.91      0.92      0.91       326\n",
      "\n",
      "\n",
      "Confusion matrix:\n"
     ]
    },
    {
     "data": {
      "text/plain": [
       "array([[288,   5],\n",
       "       [ 21,  12]])"
      ]
     },
     "execution_count": 112,
     "metadata": {},
     "output_type": "execute_result"
    }
   ],
   "source": [
    "clf = SVC(C=100)\n",
    "clf.fit(X_train,y_train)\n",
    "y_pred = clf.predict(X_test)\n",
    "accuracy = np.mean(y_pred==y_test)\n",
    "print (\"Final Test Accuracy:\", accuracy)\n",
    "print (\"\\nClassification Report:\")\n",
    "print(classification_report(y_test, y_pred))\n",
    "print (\"\\nConfusion matrix:\")\n",
    "confusion_matrix(y_test, y_pred)"
   ]
  },
  {
   "cell_type": "code",
   "execution_count": 113,
   "metadata": {},
   "outputs": [
    {
     "name": "stdout",
     "output_type": "stream",
     "text": [
      "######################### Confusion_Matrix #########################\n"
     ]
    },
    {
     "data": {
      "image/png": "[encoded data removed]",
      "text/plain": [
       "<Figure size 288x288 with 2 Axes>"
      ]
     },
     "metadata": {
      "needs_background": "light"
     },
     "output_type": "display_data"
    },
    {
     "name": "stdout",
     "output_type": "stream",
     "text": [
      "######################### Precision #########################\n"
     ]
    },
    {
     "data": {
      "image/png": "[encoded data removed]",
      "text/plain": [
       "<Figure size 288x288 with 2 Axes>"
      ]
     },
     "metadata": {
      "needs_background": "light"
     },
     "output_type": "display_data"
    },
    {
     "name": "stdout",
     "output_type": "stream",
     "text": [
      "######################### Recall #########################\n"
     ]
    },
    {
     "data": {
      "image/png": "[encoded data removed]",
      "text/plain": [
       "<Figure size 288x288 with 2 Axes>"
      ]
     },
     "metadata": {
      "needs_background": "light"
     },
     "output_type": "display_data"
    }
   ],
   "source": [
    "conf_matrix(y_test,y_pred)"
   ]
  },
  {
   "cell_type": "markdown",
   "metadata": {},
   "source": [
    "<h3> Random Forest Classifier </h3>"
   ]
  },
  {
   "cell_type": "code",
   "execution_count": 116,
   "metadata": {},
   "outputs": [
    {
     "data": {
      "text/plain": [
       "Text(0, 0.5, 'accuracy')"
      ]
     },
     "execution_count": 116,
     "metadata": {},
     "output_type": "execute_result"
    },
    {
     "data": {
      "image/png": "[encoded data removed]",
      "text/plain": [
       "<Figure size 576x432 with 1 Axes>"
      ]
     },
     "metadata": {
      "needs_background": "light"
     },
     "output_type": "display_data"
    }
   ],
   "source": [
    "from sklearn.ensemble import RandomForestClassifier\n",
    "no_Trees = [10, 20, 30, 40, 50, 60, 70, 80, 90, 100]\n",
    "cross_val_accuracy = []\n",
    "trainaccuracy = []\n",
    "testaccuracy = []\n",
    "for n in no_Trees:\n",
    "    classifier = RandomForestClassifier(n_estimators=n, random_state=0)\n",
    "    scores = cross_val_score(classifier,X_train,y_train,cv = 5)\n",
    "    cross_val_accuracy.append(np.mean(scores))\n",
    "    classifier.fit(X_train,y_train)\n",
    "    train_fit_y = classifier.predict(X_train)\n",
    "    test_predict_y = classifier.predict(X_test)\n",
    "    trainaccuracy.append(np.mean(train_fit_y==y_train))\n",
    "    testaccuracy.append(np.mean(test_predict_y==y_test))\n",
    "    \n",
    "    \n",
    "plt.figure(figsize=(8,6))\n",
    "plt.plot(no_Trees, trainaccuracy, label=\"Training Set\")\n",
    "plt.plot(no_Trees, testaccuracy, label=\"Test Set\")\n",
    "plt.legend(loc='upper right', fontsize=14)\n",
    "plt.title('accuracy vs. no_Tree parameter', fontsize=14)\n",
    "plt.xlabel('no_Trees', fontsize=14)\n",
    "plt.ylabel('accuracy', fontsize=14)\n"
   ]
  },
  {
   "cell_type": "code",
   "execution_count": 118,
   "metadata": {},
   "outputs": [
    {
     "name": "stdout",
     "output_type": "stream",
     "text": [
      "Final Test Accuracy: 0.9233128834355828\n",
      "\n",
      "Classification Report:\n",
      "              precision    recall  f1-score   support\n",
      "\n",
      "           0       0.94      0.98      0.96       293\n",
      "           1       0.72      0.39      0.51        33\n",
      "\n",
      "    accuracy                           0.92       326\n",
      "   macro avg       0.83      0.69      0.73       326\n",
      "weighted avg       0.91      0.92      0.91       326\n",
      "\n",
      "\n",
      "Confusion matrix:\n"
     ]
    },
    {
     "data": {
      "text/plain": [
       "array([[288,   5],\n",
       "       [ 20,  13]])"
      ]
     },
     "execution_count": 118,
     "metadata": {},
     "output_type": "execute_result"
    }
   ],
   "source": [
    "# Final Random Forest Classifier\n",
    "clf = RandomForestClassifier(n_estimators=50, random_state=0)\n",
    "clf.fit(X_train,y_train)\n",
    "y_pred = clf.predict(X_test)\n",
    "accuracy = np.mean(y_pred==y_test)\n",
    "print (\"Final Test Accuracy:\", accuracy)\n",
    "print (\"\\nClassification Report:\")\n",
    "print(classification_report(y_test, y_pred))\n",
    "print (\"\\nConfusion matrix:\")\n",
    "confusion_matrix(y_test, y_pred)"
   ]
  },
  {
   "cell_type": "code",
   "execution_count": 119,
   "metadata": {},
   "outputs": [
    {
     "name": "stdout",
     "output_type": "stream",
     "text": [
      "######################### Confusion_Matrix #########################\n"
     ]
    },
    {
     "data": {
      "image/png": "[encoded data removed]",
      "text/plain": [
       "<Figure size 288x288 with 2 Axes>"
      ]
     },
     "metadata": {
      "needs_background": "light"
     },
     "output_type": "display_data"
    },
    {
     "name": "stdout",
     "output_type": "stream",
     "text": [
      "######################### Precision #########################\n"
     ]
    },
    {
     "data": {
      "image/png": "[encoded data removed]",
      "text/plain": [
       "<Figure size 288x288 with 2 Axes>"
      ]
     },
     "metadata": {
      "needs_background": "light"
     },
     "output_type": "display_data"
    },
    {
     "name": "stdout",
     "output_type": "stream",
     "text": [
      "######################### Recall #########################\n"
     ]
    },
    {
     "data": {
      "image/png": "[encoded data removed]",
      "text/plain": [
       "<Figure size 288x288 with 2 Axes>"
      ]
     },
     "metadata": {
      "needs_background": "light"
     },
     "output_type": "display_data"
    }
   ],
   "source": [
    "conf_matrix(y_test,y_pred)"
   ]
  },
  {
   "cell_type": "markdown",
   "metadata": {},
   "source": [
    "<h3> Gradient Boosting </h3>"
   ]
  },
  {
   "cell_type": "code",
   "execution_count": 127,
   "metadata": {},
   "outputs": [
    {
     "data": {
      "text/plain": [
       "Text(0, 0.5, 'Accuracy')"
      ]
     },
     "execution_count": 127,
     "metadata": {},
     "output_type": "execute_result"
    },
    {
     "data": {
      "image/png": "[encoded data removed]",
      "text/plain": [
       "<Figure size 576x432 with 1 Axes>"
      ]
     },
     "metadata": {
      "needs_background": "light"
     },
     "output_type": "display_data"
    }
   ],
   "source": [
    "from sklearn.ensemble import GradientBoostingClassifier\n",
    "depths = [1, 2, 3, 4, 5]\n",
    "cvAccuracy = []\n",
    "trainaccuracy = []\n",
    "testaccuracy = []\n",
    "\n",
    "for d in depths:\n",
    "    clf = GradientBoostingClassifier(max_depth=d, random_state=0)\n",
    "    scores = cross_val_score(clf, X_train,y_train, cv=5)\n",
    "    cvAccuracy.append(np.mean(scores))\n",
    "    clf.fit(X_train,y_train)\n",
    "    y_fitted = clf.predict(X_train)\n",
    "    y_pred = clf.predict(X_test)\n",
    "    trainaccuracy.append(np.mean(y_fitted==y_train))\n",
    "    testaccuracy.append(np.mean(y_pred==y_test))\n",
    "\n",
    "plt.figure(figsize=(8,6))\n",
    "plt.plot(depths, trainaccuracy, label=\"Training Set\")\n",
    "plt.plot(depths, testaccuracy, label=\"Test Set\")\n",
    "plt.legend(loc='upper right', fontsize=14)\n",
    "plt.title('Accuracy vs. Max Depth', fontsize=14)\n",
    "plt.xlabel('Max depth', fontsize=14)\n",
    "plt.ylabel('Accuracy', fontsize=14)"
   ]
  },
  {
   "cell_type": "code",
   "execution_count": 129,
   "metadata": {},
   "outputs": [
    {
     "name": "stdout",
     "output_type": "stream",
     "text": [
      "Final Test Accuracy: 0.9233128834355828\n",
      "\n",
      "Classification Report:\n",
      "              precision    recall  f1-score   support\n",
      "\n",
      "           0       0.94      0.98      0.96       293\n",
      "           1       0.68      0.45      0.55        33\n",
      "\n",
      "    accuracy                           0.92       326\n",
      "   macro avg       0.81      0.72      0.75       326\n",
      "weighted avg       0.91      0.92      0.92       326\n",
      "\n",
      "\n",
      "Confusion matrix:\n"
     ]
    },
    {
     "data": {
      "text/plain": [
       "array([[286,   7],\n",
       "       [ 18,  15]])"
      ]
     },
     "execution_count": 129,
     "metadata": {},
     "output_type": "execute_result"
    }
   ],
   "source": [
    "clf = GradientBoostingClassifier(max_depth=4, random_state=0)\n",
    "clf.fit(X_train,y_train)\n",
    "y_pred = clf.predict(X_test)\n",
    "accuracy = np.mean(y_pred==y_test)\n",
    "print (\"Final Test Accuracy:\", accuracy)\n",
    "print (\"\\nClassification Report:\")\n",
    "print(classification_report(y_test, y_pred))\n",
    "print (\"\\nConfusion matrix:\")\n",
    "confusion_matrix(y_test, y_pred)"
   ]
  },
  {
   "cell_type": "code",
   "execution_count": 130,
   "metadata": {},
   "outputs": [
    {
     "name": "stdout",
     "output_type": "stream",
     "text": [
      "######################### Confusion_Matrix #########################\n"
     ]
    },
    {
     "data": {
      "image/png": "[encoded data removed]",
      "text/plain": [
       "<Figure size 288x288 with 2 Axes>"
      ]
     },
     "metadata": {
      "needs_background": "light"
     },
     "output_type": "display_data"
    },
    {
     "name": "stdout",
     "output_type": "stream",
     "text": [
      "######################### Precision #########################\n"
     ]
    },
    {
     "data": {
      "image/png": "[encoded data removed]",
      "text/plain": [
       "<Figure size 288x288 with 2 Axes>"
      ]
     },
     "metadata": {
      "needs_background": "light"
     },
     "output_type": "display_data"
    },
    {
     "name": "stdout",
     "output_type": "stream",
     "text": [
      "######################### Recall #########################\n"
     ]
    },
    {
     "data": {
      "image/png": "[encoded data removed]",
      "text/plain": [
       "<Figure size 288x288 with 2 Axes>"
      ]
     },
     "metadata": {
      "needs_background": "light"
     },
     "output_type": "display_data"
    }
   ],
   "source": [
    "conf_matrix(y_test,y_pred)"
   ]
  },
  {
   "cell_type": "code",
   "execution_count": null,
   "metadata": {},
   "outputs": [],
   "source": []
  }
 ],
 "metadata": {
  "kernelspec": {
   "display_name": "Python 3",
   "language": "python",
   "name": "python3"
  },
  "language_info": {
   "codemirror_mode": {
    "name": "ipython",
    "version": 3
   },
   "file_extension": ".py",
   "mimetype": "text/x-python",
   "name": "python",
   "nbconvert_exporter": "python",
   "pygments_lexer": "ipython3",
   "version": "3.7.4"
  }
 },
 "nbformat": 4,
 "nbformat_minor": 2
}
