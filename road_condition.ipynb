{
 "cells": [
  {
   "cell_type": "markdown",
   "metadata": {},
   "source": [
    "# Road Condition Classification"
   ]
  },
  {
   "cell_type": "code",
   "execution_count": 6,
   "metadata": {},
   "outputs": [],
   "source": [
    "import numpy as np\n",
    "import pandas as pd\n",
    "import warnings\n",
    "import matplotlib\n",
    "%matplotlib inline\n",
    "import matplotlib.pyplot as plt\n",
    "import seaborn as sns\n",
    "from sklearn.model_selection import train_test_split\n",
    "from sklearn.metrics import accuracy_score\n",
    "from sklearn.metrics import confusion_matrix\n",
    "from sklearn.model_selection import cross_val_score\n",
    "from sklearn.metrics import classification_report\n",
    "warnings.filterwarnings('ignore')"
   ]
  },
  {
   "cell_type": "code",
   "execution_count": 7,
   "metadata": {},
   "outputs": [],
   "source": [
    "def convert_to_interval_road(df_sensor,road):\n",
    "    len_sensor = len(df_sensor)\n",
    "    data = list()\n",
    "    for k in range(0,len_sensor,25):\n",
    "        current_interval = df_sensor[k:k+25]\n",
    "        meanSpeed = current_interval['speed'].mean()\n",
    "        sdSpeed = current_interval['speed'].std()\n",
    "        maxAccelX = max(current_interval['accelerometerX'])\n",
    "        maxAccelY = max(current_interval['accelerometerY'])\n",
    "        maxAccelZ = max(current_interval['accelerometerZ'])\n",
    "        maxGyroX = max(current_interval['gyroX'])\n",
    "        maxGyroY = max(current_interval['gyroY'])\n",
    "        maxGyroZ = max(current_interval['gyroZ'])\n",
    "        minAccelX = min(current_interval['accelerometerX'])\n",
    "        minAccelY = min(current_interval['accelerometerY'])\n",
    "        minAccelZ = min(current_interval['accelerometerZ'])\n",
    "        minGyroX = min(current_interval['gyroX'])\n",
    "        minGyroY = min(current_interval['gyroY'])\n",
    "        minGyroZ = min(current_interval['gyroZ'])\n",
    "        meanAccelX = current_interval['accelerometerX'].mean()\n",
    "        meanAccelY = current_interval['accelerometerY'].mean()\n",
    "        meanAccelZ = current_interval['accelerometerZ'].mean()\n",
    "        sdAccelX = current_interval['accelerometerX'].std()\n",
    "        sdAccelY = current_interval['accelerometerY'].std()\n",
    "        sdAccelZ = current_interval['accelerometerZ'].std()\n",
    "        meanGyroX = current_interval['gyroX'].mean()\n",
    "        meanGyroY = current_interval['gyroY'].mean()\n",
    "        meanGyroZ = current_interval['gyroZ'].mean()\n",
    "        sdGyroX = current_interval['gyroX'].std()\n",
    "        sdGyroY = current_interval['gyroY'].std()\n",
    "        sdGyroZ = current_interval['gyroZ'].std()\n",
    "        if road == \"g\":\n",
    "            condition = 0\n",
    "        else:\n",
    "            condition = 1\n",
    "        \n",
    "        datapoint = [meanSpeed, sdSpeed, maxAccelX, maxAccelY, maxAccelZ, maxGyroX, maxGyroY, \n",
    "                           maxGyroZ, minAccelX, minAccelY, minAccelZ, minGyroX, minGyroY, minGyroZ, \n",
    "                           meanAccelX, meanAccelY, meanAccelZ, meanGyroX, meanGyroY, meanGyroZ,\n",
    "                           sdAccelX, sdAccelY, sdAccelZ, sdGyroX, sdGyroY, sdGyroZ, condition]\n",
    "        data.append(datapoint)\n",
    "    df = pd.DataFrame.from_records(data)\n",
    "    df.columns = [\"meanSpeed\", \"sdSpeed\", \"maxAccelX\", \"maxAccelY\", \"maxAccelZ\", \"maxGyroX\", \"maxGyroY\", \n",
    "                           \"maxGyroZ\", \"minAccelX\", \"minAccelY\", \"minAccelZ\", \"minGyroX\", \"minGyroY\", \"minGyroZ\", \n",
    "                           \"meanAccelX\", \"meanAccelY\", \"meanAccelZ\", \"meanGyroX\", \"meanGyroY\", \"meanGyroZ\",\n",
    "                           \"sdAccelX\", \"sdAccelY\", \"sdAccelZ\", \"sdGyroX\", \"sdGyroY\", \"sdGyroZ\", \"condition\"]\n",
    "    \n",
    "    return df\n",
    "    \n",
    "\n",
    "\n",
    "    \n",
    "    \n",
    "    \n",
    "    \n",
    "    \n",
    "    \n",
    "    \n",
    "    \n",
    "    \n",
    "    \n",
    "    \n",
    "    \n",
    "    \n",
    "    \n",
    "    \n",
    "    "
   ]
  },
  {
   "cell_type": "code",
   "execution_count": 8,
   "metadata": {},
   "outputs": [],
   "source": [
    "def conf_matrix(y_test,predicted_y):\n",
    "    labels = [\"false\",\"true\"]\n",
    "    A = confusion_matrix(y_test,predicted_y)\n",
    "    B = (((A.T)/(A.sum(axis=1))).T)\n",
    "    C =(A/A.sum(axis=0))\n",
    "    print (\"#\"*25,\"Confusion_Matrix\",\"#\"*25)\n",
    "    plt.figure(figsize=(4,4))\n",
    "    sns.heatmap(A,annot=True, fmt='.2g', xticklabels=labels, yticklabels=labels,cmap = \"YlGnBu\")\n",
    "    plt.xlabel(\"Predicted class\")\n",
    "    plt.ylabel(\"Original class\")\n",
    "    plt.show()\n",
    "    print (\"#\"*25,\"Precision\",\"#\"*25)\n",
    "    plt.figure(figsize=(4,4))\n",
    "    sns.heatmap(B,annot=True, fmt='.2g', xticklabels=labels, yticklabels=labels,cmap = \"YlGnBu\")\n",
    "    plt.xlabel(\"Predicted class\")\n",
    "    plt.ylabel(\"Original class\")\n",
    "    plt.show()\n",
    "    print (\"#\"*25,\"Recall\",\"#\"*25)\n",
    "    plt.figure(figsize=(4,4))\n",
    "    sns.heatmap(C,annot=True, fmt='.2g', xticklabels=labels, yticklabels=labels,cmap = \"YlGnBu\")\n",
    "    plt.xlabel(\"Predicted class\")\n",
    "    plt.ylabel(\"Original class\")\n",
    "    plt.show()"
   ]
  },
  {
   "cell_type": "code",
   "execution_count": 9,
   "metadata": {},
   "outputs": [
    {
     "data": {
      "text/html": [
       "<div>\n",
       "<style scoped>\n",
       "    .dataframe tbody tr th:only-of-type {\n",
       "        vertical-align: middle;\n",
       "    }\n",
       "\n",
       "    .dataframe tbody tr th {\n",
       "        vertical-align: top;\n",
       "    }\n",
       "\n",
       "    .dataframe thead th {\n",
       "        text-align: right;\n",
       "    }\n",
       "</style>\n",
       "<table border=\"1\" class=\"dataframe\">\n",
       "  <thead>\n",
       "    <tr style=\"text-align: right;\">\n",
       "      <th></th>\n",
       "      <th>meanSpeed</th>\n",
       "      <th>sdSpeed</th>\n",
       "      <th>maxAccelX</th>\n",
       "      <th>maxAccelY</th>\n",
       "      <th>maxAccelZ</th>\n",
       "      <th>maxGyroX</th>\n",
       "      <th>maxGyroY</th>\n",
       "      <th>maxGyroZ</th>\n",
       "      <th>minAccelX</th>\n",
       "      <th>minAccelY</th>\n",
       "      <th>...</th>\n",
       "      <th>meanGyroX</th>\n",
       "      <th>meanGyroY</th>\n",
       "      <th>meanGyroZ</th>\n",
       "      <th>sdAccelX</th>\n",
       "      <th>sdAccelY</th>\n",
       "      <th>sdAccelZ</th>\n",
       "      <th>sdGyroX</th>\n",
       "      <th>sdGyroY</th>\n",
       "      <th>sdGyroZ</th>\n",
       "      <th>condition</th>\n",
       "    </tr>\n",
       "  </thead>\n",
       "  <tbody>\n",
       "    <tr>\n",
       "      <td>0</td>\n",
       "      <td>1.4480</td>\n",
       "      <td>1.873593</td>\n",
       "      <td>0.081833</td>\n",
       "      <td>-0.892563</td>\n",
       "      <td>0.531357</td>\n",
       "      <td>0.030879</td>\n",
       "      <td>0.022563</td>\n",
       "      <td>0.025532</td>\n",
       "      <td>-0.012863</td>\n",
       "      <td>-0.972656</td>\n",
       "      <td>...</td>\n",
       "      <td>-0.026106</td>\n",
       "      <td>-0.011531</td>\n",
       "      <td>-0.000536</td>\n",
       "      <td>0.024824</td>\n",
       "      <td>0.026782</td>\n",
       "      <td>0.092917</td>\n",
       "      <td>0.030684</td>\n",
       "      <td>0.022975</td>\n",
       "      <td>0.014998</td>\n",
       "      <td>0</td>\n",
       "    </tr>\n",
       "    <tr>\n",
       "      <td>1</td>\n",
       "      <td>8.5456</td>\n",
       "      <td>1.651202</td>\n",
       "      <td>0.382187</td>\n",
       "      <td>-0.828186</td>\n",
       "      <td>0.428528</td>\n",
       "      <td>0.076003</td>\n",
       "      <td>0.368514</td>\n",
       "      <td>0.048106</td>\n",
       "      <td>-0.030273</td>\n",
       "      <td>-1.048843</td>\n",
       "      <td>...</td>\n",
       "      <td>-0.021130</td>\n",
       "      <td>0.026896</td>\n",
       "      <td>-0.028604</td>\n",
       "      <td>0.082117</td>\n",
       "      <td>0.041041</td>\n",
       "      <td>0.052897</td>\n",
       "      <td>0.051127</td>\n",
       "      <td>0.098617</td>\n",
       "      <td>0.068498</td>\n",
       "      <td>0</td>\n",
       "    </tr>\n",
       "    <tr>\n",
       "      <td>2</td>\n",
       "      <td>12.4456</td>\n",
       "      <td>0.601582</td>\n",
       "      <td>0.161774</td>\n",
       "      <td>-0.785294</td>\n",
       "      <td>0.576187</td>\n",
       "      <td>0.074529</td>\n",
       "      <td>0.229708</td>\n",
       "      <td>0.159245</td>\n",
       "      <td>-0.280014</td>\n",
       "      <td>-1.212280</td>\n",
       "      <td>...</td>\n",
       "      <td>-0.028434</td>\n",
       "      <td>0.004568</td>\n",
       "      <td>0.000934</td>\n",
       "      <td>0.111291</td>\n",
       "      <td>0.096310</td>\n",
       "      <td>0.096204</td>\n",
       "      <td>0.075677</td>\n",
       "      <td>0.088893</td>\n",
       "      <td>0.074676</td>\n",
       "      <td>0</td>\n",
       "    </tr>\n",
       "    <tr>\n",
       "      <td>3</td>\n",
       "      <td>12.6376</td>\n",
       "      <td>0.139591</td>\n",
       "      <td>0.179916</td>\n",
       "      <td>-0.803604</td>\n",
       "      <td>0.311172</td>\n",
       "      <td>0.090103</td>\n",
       "      <td>0.124027</td>\n",
       "      <td>0.106324</td>\n",
       "      <td>-0.162643</td>\n",
       "      <td>-1.069412</td>\n",
       "      <td>...</td>\n",
       "      <td>-0.023337</td>\n",
       "      <td>-0.054731</td>\n",
       "      <td>0.031761</td>\n",
       "      <td>0.104010</td>\n",
       "      <td>0.075777</td>\n",
       "      <td>0.047894</td>\n",
       "      <td>0.068000</td>\n",
       "      <td>0.084106</td>\n",
       "      <td>0.048881</td>\n",
       "      <td>0</td>\n",
       "    </tr>\n",
       "    <tr>\n",
       "      <td>4</td>\n",
       "      <td>12.9352</td>\n",
       "      <td>0.283301</td>\n",
       "      <td>0.145187</td>\n",
       "      <td>-0.882919</td>\n",
       "      <td>0.280197</td>\n",
       "      <td>0.101957</td>\n",
       "      <td>0.148029</td>\n",
       "      <td>0.127700</td>\n",
       "      <td>-0.123413</td>\n",
       "      <td>-1.033752</td>\n",
       "      <td>...</td>\n",
       "      <td>-0.008532</td>\n",
       "      <td>-0.055637</td>\n",
       "      <td>0.026456</td>\n",
       "      <td>0.074642</td>\n",
       "      <td>0.039988</td>\n",
       "      <td>0.033150</td>\n",
       "      <td>0.055188</td>\n",
       "      <td>0.099061</td>\n",
       "      <td>0.063591</td>\n",
       "      <td>0</td>\n",
       "    </tr>\n",
       "  </tbody>\n",
       "</table>\n",
       "<p>5 rows × 27 columns</p>\n",
       "</div>"
      ],
      "text/plain": [
       "   meanSpeed   sdSpeed  maxAccelX  maxAccelY  maxAccelZ  maxGyroX  maxGyroY  \\\n",
       "0     1.4480  1.873593   0.081833  -0.892563   0.531357  0.030879  0.022563   \n",
       "1     8.5456  1.651202   0.382187  -0.828186   0.428528  0.076003  0.368514   \n",
       "2    12.4456  0.601582   0.161774  -0.785294   0.576187  0.074529  0.229708   \n",
       "3    12.6376  0.139591   0.179916  -0.803604   0.311172  0.090103  0.124027   \n",
       "4    12.9352  0.283301   0.145187  -0.882919   0.280197  0.101957  0.148029   \n",
       "\n",
       "   maxGyroZ  minAccelX  minAccelY  ...  meanGyroX  meanGyroY  meanGyroZ  \\\n",
       "0  0.025532  -0.012863  -0.972656  ...  -0.026106  -0.011531  -0.000536   \n",
       "1  0.048106  -0.030273  -1.048843  ...  -0.021130   0.026896  -0.028604   \n",
       "2  0.159245  -0.280014  -1.212280  ...  -0.028434   0.004568   0.000934   \n",
       "3  0.106324  -0.162643  -1.069412  ...  -0.023337  -0.054731   0.031761   \n",
       "4  0.127700  -0.123413  -1.033752  ...  -0.008532  -0.055637   0.026456   \n",
       "\n",
       "   sdAccelX  sdAccelY  sdAccelZ   sdGyroX   sdGyroY   sdGyroZ  condition  \n",
       "0  0.024824  0.026782  0.092917  0.030684  0.022975  0.014998          0  \n",
       "1  0.082117  0.041041  0.052897  0.051127  0.098617  0.068498          0  \n",
       "2  0.111291  0.096310  0.096204  0.075677  0.088893  0.074676          0  \n",
       "3  0.104010  0.075777  0.047894  0.068000  0.084106  0.048881          0  \n",
       "4  0.074642  0.039988  0.033150  0.055188  0.099061  0.063591          0  \n",
       "\n",
       "[5 rows x 27 columns]"
      ]
     },
     "execution_count": 9,
     "metadata": {},
     "output_type": "execute_result"
    }
   ],
   "source": [
    "df = pd.DataFrame(columns=[\"meanSpeed\", \"sdSpeed\", \"maxAccelX\", \"maxAccelY\", \"maxAccelZ\", \"maxGyroX\", \"maxGyroY\", \n",
    "                           \"maxGyroZ\", \"minAccelX\", \"minAccelY\", \"minAccelZ\", \"minGyroX\", \"minGyroY\", \"minGyroZ\", \n",
    "                           \"meanAccelX\", \"meanAccelY\", \"meanAccelZ\", \"meanGyroX\", \"meanGyroY\", \"meanGyroZ\",\n",
    "                           \"sdAccelX\", \"sdAccelY\", \"sdAccelZ\", \"sdGyroX\", \"sdGyroY\", \"sdGyroZ\", \"condition\"])\n",
    "for i in range(1,11):\n",
    "  \n",
    "    df_sensor = pd.read_csv('road_qualityData/'+'good%s_sensors.csv' % i)\n",
    "    \n",
    "    trip_df = convert_to_interval_road(df_sensor,\"g\")\n",
    "    \n",
    "    #print(trip_df.head(5))\n",
    "    \n",
    "    df = df.append(trip_df,ignore_index=True)\n",
    "    \n",
    "    \n",
    "for i in range(1,6):\n",
    "  \n",
    "    df_sensor = pd.read_csv('road_qualityData/'+'bad%s_sensors.csv' % i)\n",
    "    \n",
    "    trip_df = convert_to_interval_road(df_sensor,\"b\")\n",
    "    \n",
    "    #print(trip_df.head(5))\n",
    "    \n",
    "    df = df.append(trip_df,ignore_index=True)\n",
    "\n",
    "\n",
    "df.head(5)\n",
    "    "
   ]
  },
  {
   "cell_type": "code",
   "execution_count": 10,
   "metadata": {},
   "outputs": [
    {
     "data": {
      "text/plain": [
       "True"
      ]
     },
     "execution_count": 10,
     "metadata": {},
     "output_type": "execute_result"
    }
   ],
   "source": [
    "df.isnull().values.any()"
   ]
  },
  {
   "cell_type": "code",
   "execution_count": 11,
   "metadata": {},
   "outputs": [],
   "source": [
    "df = df.dropna()"
   ]
  },
  {
   "cell_type": "code",
   "execution_count": 12,
   "metadata": {},
   "outputs": [
    {
     "data": {
      "text/plain": [
       "(459, 27)"
      ]
     },
     "execution_count": 12,
     "metadata": {},
     "output_type": "execute_result"
    }
   ],
   "source": [
    "df.shape"
   ]
  },
  {
   "cell_type": "code",
   "execution_count": 13,
   "metadata": {},
   "outputs": [],
   "source": [
    "y = df['condition']"
   ]
  },
  {
   "cell_type": "code",
   "execution_count": 14,
   "metadata": {},
   "outputs": [
    {
     "data": {
      "text/plain": [
       "0    373\n",
       "1     86\n",
       "Name: condition, dtype: int64"
      ]
     },
     "execution_count": 14,
     "metadata": {},
     "output_type": "execute_result"
    }
   ],
   "source": [
    "pd.value_counts(y)"
   ]
  },
  {
   "cell_type": "code",
   "execution_count": 15,
   "metadata": {},
   "outputs": [],
   "source": [
    "df.to_csv(\"roadQuality.csv\",index = False)"
   ]
  },
  {
   "cell_type": "code",
   "execution_count": 16,
   "metadata": {},
   "outputs": [],
   "source": [
    "roadQuality = pd.read_csv(\"roadQuality.csv\")"
   ]
  },
  {
   "cell_type": "code",
   "execution_count": 17,
   "metadata": {},
   "outputs": [
    {
     "data": {
      "text/html": [
       "<div>\n",
       "<style scoped>\n",
       "    .dataframe tbody tr th:only-of-type {\n",
       "        vertical-align: middle;\n",
       "    }\n",
       "\n",
       "    .dataframe tbody tr th {\n",
       "        vertical-align: top;\n",
       "    }\n",
       "\n",
       "    .dataframe thead th {\n",
       "        text-align: right;\n",
       "    }\n",
       "</style>\n",
       "<table border=\"1\" class=\"dataframe\">\n",
       "  <thead>\n",
       "    <tr style=\"text-align: right;\">\n",
       "      <th></th>\n",
       "      <th>meanSpeed</th>\n",
       "      <th>sdSpeed</th>\n",
       "      <th>maxAccelX</th>\n",
       "      <th>maxAccelY</th>\n",
       "      <th>maxAccelZ</th>\n",
       "      <th>maxGyroX</th>\n",
       "      <th>maxGyroY</th>\n",
       "      <th>maxGyroZ</th>\n",
       "      <th>minAccelX</th>\n",
       "      <th>minAccelY</th>\n",
       "      <th>...</th>\n",
       "      <th>meanGyroX</th>\n",
       "      <th>meanGyroY</th>\n",
       "      <th>meanGyroZ</th>\n",
       "      <th>sdAccelX</th>\n",
       "      <th>sdAccelY</th>\n",
       "      <th>sdAccelZ</th>\n",
       "      <th>sdGyroX</th>\n",
       "      <th>sdGyroY</th>\n",
       "      <th>sdGyroZ</th>\n",
       "      <th>condition</th>\n",
       "    </tr>\n",
       "  </thead>\n",
       "  <tbody>\n",
       "    <tr>\n",
       "      <td>0</td>\n",
       "      <td>1.4480</td>\n",
       "      <td>1.873593</td>\n",
       "      <td>0.081833</td>\n",
       "      <td>-0.892563</td>\n",
       "      <td>0.531357</td>\n",
       "      <td>0.030879</td>\n",
       "      <td>0.022563</td>\n",
       "      <td>0.025532</td>\n",
       "      <td>-0.012863</td>\n",
       "      <td>-0.972656</td>\n",
       "      <td>...</td>\n",
       "      <td>-0.026106</td>\n",
       "      <td>-0.011531</td>\n",
       "      <td>-0.000536</td>\n",
       "      <td>0.024824</td>\n",
       "      <td>0.026782</td>\n",
       "      <td>0.092917</td>\n",
       "      <td>0.030684</td>\n",
       "      <td>0.022975</td>\n",
       "      <td>0.014998</td>\n",
       "      <td>0</td>\n",
       "    </tr>\n",
       "    <tr>\n",
       "      <td>1</td>\n",
       "      <td>8.5456</td>\n",
       "      <td>1.651202</td>\n",
       "      <td>0.382187</td>\n",
       "      <td>-0.828186</td>\n",
       "      <td>0.428528</td>\n",
       "      <td>0.076003</td>\n",
       "      <td>0.368514</td>\n",
       "      <td>0.048106</td>\n",
       "      <td>-0.030273</td>\n",
       "      <td>-1.048843</td>\n",
       "      <td>...</td>\n",
       "      <td>-0.021130</td>\n",
       "      <td>0.026896</td>\n",
       "      <td>-0.028604</td>\n",
       "      <td>0.082117</td>\n",
       "      <td>0.041041</td>\n",
       "      <td>0.052897</td>\n",
       "      <td>0.051127</td>\n",
       "      <td>0.098617</td>\n",
       "      <td>0.068498</td>\n",
       "      <td>0</td>\n",
       "    </tr>\n",
       "    <tr>\n",
       "      <td>2</td>\n",
       "      <td>12.4456</td>\n",
       "      <td>0.601582</td>\n",
       "      <td>0.161774</td>\n",
       "      <td>-0.785294</td>\n",
       "      <td>0.576187</td>\n",
       "      <td>0.074529</td>\n",
       "      <td>0.229708</td>\n",
       "      <td>0.159245</td>\n",
       "      <td>-0.280014</td>\n",
       "      <td>-1.212280</td>\n",
       "      <td>...</td>\n",
       "      <td>-0.028434</td>\n",
       "      <td>0.004568</td>\n",
       "      <td>0.000934</td>\n",
       "      <td>0.111291</td>\n",
       "      <td>0.096310</td>\n",
       "      <td>0.096204</td>\n",
       "      <td>0.075677</td>\n",
       "      <td>0.088893</td>\n",
       "      <td>0.074676</td>\n",
       "      <td>0</td>\n",
       "    </tr>\n",
       "    <tr>\n",
       "      <td>3</td>\n",
       "      <td>12.6376</td>\n",
       "      <td>0.139591</td>\n",
       "      <td>0.179916</td>\n",
       "      <td>-0.803604</td>\n",
       "      <td>0.311172</td>\n",
       "      <td>0.090103</td>\n",
       "      <td>0.124027</td>\n",
       "      <td>0.106324</td>\n",
       "      <td>-0.162643</td>\n",
       "      <td>-1.069412</td>\n",
       "      <td>...</td>\n",
       "      <td>-0.023337</td>\n",
       "      <td>-0.054731</td>\n",
       "      <td>0.031761</td>\n",
       "      <td>0.104010</td>\n",
       "      <td>0.075777</td>\n",
       "      <td>0.047894</td>\n",
       "      <td>0.068000</td>\n",
       "      <td>0.084106</td>\n",
       "      <td>0.048881</td>\n",
       "      <td>0</td>\n",
       "    </tr>\n",
       "    <tr>\n",
       "      <td>4</td>\n",
       "      <td>12.9352</td>\n",
       "      <td>0.283301</td>\n",
       "      <td>0.145187</td>\n",
       "      <td>-0.882919</td>\n",
       "      <td>0.280197</td>\n",
       "      <td>0.101957</td>\n",
       "      <td>0.148029</td>\n",
       "      <td>0.127700</td>\n",
       "      <td>-0.123413</td>\n",
       "      <td>-1.033752</td>\n",
       "      <td>...</td>\n",
       "      <td>-0.008532</td>\n",
       "      <td>-0.055637</td>\n",
       "      <td>0.026456</td>\n",
       "      <td>0.074642</td>\n",
       "      <td>0.039988</td>\n",
       "      <td>0.033150</td>\n",
       "      <td>0.055188</td>\n",
       "      <td>0.099061</td>\n",
       "      <td>0.063591</td>\n",
       "      <td>0</td>\n",
       "    </tr>\n",
       "  </tbody>\n",
       "</table>\n",
       "<p>5 rows × 27 columns</p>\n",
       "</div>"
      ],
      "text/plain": [
       "   meanSpeed   sdSpeed  maxAccelX  maxAccelY  maxAccelZ  maxGyroX  maxGyroY  \\\n",
       "0     1.4480  1.873593   0.081833  -0.892563   0.531357  0.030879  0.022563   \n",
       "1     8.5456  1.651202   0.382187  -0.828186   0.428528  0.076003  0.368514   \n",
       "2    12.4456  0.601582   0.161774  -0.785294   0.576187  0.074529  0.229708   \n",
       "3    12.6376  0.139591   0.179916  -0.803604   0.311172  0.090103  0.124027   \n",
       "4    12.9352  0.283301   0.145187  -0.882919   0.280197  0.101957  0.148029   \n",
       "\n",
       "   maxGyroZ  minAccelX  minAccelY  ...  meanGyroX  meanGyroY  meanGyroZ  \\\n",
       "0  0.025532  -0.012863  -0.972656  ...  -0.026106  -0.011531  -0.000536   \n",
       "1  0.048106  -0.030273  -1.048843  ...  -0.021130   0.026896  -0.028604   \n",
       "2  0.159245  -0.280014  -1.212280  ...  -0.028434   0.004568   0.000934   \n",
       "3  0.106324  -0.162643  -1.069412  ...  -0.023337  -0.054731   0.031761   \n",
       "4  0.127700  -0.123413  -1.033752  ...  -0.008532  -0.055637   0.026456   \n",
       "\n",
       "   sdAccelX  sdAccelY  sdAccelZ   sdGyroX   sdGyroY   sdGyroZ  condition  \n",
       "0  0.024824  0.026782  0.092917  0.030684  0.022975  0.014998          0  \n",
       "1  0.082117  0.041041  0.052897  0.051127  0.098617  0.068498          0  \n",
       "2  0.111291  0.096310  0.096204  0.075677  0.088893  0.074676          0  \n",
       "3  0.104010  0.075777  0.047894  0.068000  0.084106  0.048881          0  \n",
       "4  0.074642  0.039988  0.033150  0.055188  0.099061  0.063591          0  \n",
       "\n",
       "[5 rows x 27 columns]"
      ]
     },
     "execution_count": 17,
     "metadata": {},
     "output_type": "execute_result"
    }
   ],
   "source": [
    "roadQuality.head(5)"
   ]
  },
  {
   "cell_type": "code",
   "execution_count": 18,
   "metadata": {},
   "outputs": [],
   "source": [
    "X = roadQuality[['meanSpeed', 'sdSpeed', 'maxAccelX', 'maxAccelY', 'maxAccelZ', 'maxGyroX', \n",
    "       'maxGyroY', 'maxGyroZ', 'minAccelX', 'minAccelY', 'minAccelZ', 'minGyroX', \n",
    "       'minGyroY', 'minGyroZ', 'meanAccelX', 'meanAccelY', 'meanAccelZ', \n",
    "       'meanGyroX', 'meanGyroY', 'meanGyroZ', 'sdAccelX', 'sdAccelY', 'sdAccelZ', \n",
    "       'sdGyroX', 'sdGyroY', 'sdGyroZ']]\n",
    "y = roadQuality[\"condition\"].astype(int)"
   ]
  },
  {
   "cell_type": "code",
   "execution_count": 21,
   "metadata": {},
   "outputs": [],
   "source": [
    "X_train, X_test, y_train, y_test = train_test_split(X, y, test_size=0.33, random_state=0)"
   ]
  },
  {
   "cell_type": "code",
   "execution_count": 22,
   "metadata": {},
   "outputs": [
    {
     "data": {
      "text/plain": [
       "Text(0, 0.5, 'accuracy')"
      ]
     },
     "execution_count": 22,
     "metadata": {},
     "output_type": "execute_result"
    },
    {
     "data": {
      "image/png": "[encoded data removed]",
      "text/plain": [
       "<Figure size 576x432 with 1 Axes>"
      ]
     },
     "metadata": {
      "needs_background": "light"
     },
     "output_type": "display_data"
    }
   ],
   "source": [
    "from sklearn.svm import SVC\n",
    "\n",
    "C = [1, 50, 100, 150, 200, 250, 300, 350, 400]\n",
    "cross_val_accuracy = []\n",
    "trainaccuracy = []\n",
    "testaccuracy = []\n",
    "for c in C:\n",
    "    classifier = SVC(C=c)\n",
    "    scores = cross_val_score(classifier,X_train,y_train,cv = 5)\n",
    "    cross_val_accuracy.append(np.mean(scores))\n",
    "    classifier.fit(X_train,y_train)\n",
    "    train_fit_y = classifier.predict(X_train)\n",
    "    test_predict_y = classifier.predict(X_test)\n",
    "    trainaccuracy.append(np.mean(train_fit_y==y_train))\n",
    "    testaccuracy.append(np.mean(test_predict_y==y_test))\n",
    "    \n",
    "    \n",
    "plt.figure(figsize=(8,6))\n",
    "plt.plot(C, trainaccuracy, label=\"Training Set\")\n",
    "plt.plot(C, testaccuracy, label=\"Test Set\")\n",
    "plt.legend(loc='upper right', fontsize=14)\n",
    "plt.title('accuracy vs. C parameter', fontsize=14)\n",
    "plt.xlabel('C', fontsize=14)\n",
    "plt.ylabel('accuracy', fontsize=14)\n",
    "\n"
   ]
  },
  {
   "cell_type": "code",
   "execution_count": 23,
   "metadata": {},
   "outputs": [
    {
     "name": "stdout",
     "output_type": "stream",
     "text": [
      "Final SVM Test Accuracy:  0.9276315789473685\n"
     ]
    }
   ],
   "source": [
    "clf = SVC(C=150)\n",
    "clf.fit(X_train,y_train)\n",
    "y_pred = clf.predict(X_test)\n",
    "accuracy = np.mean(y_pred==y_test)\n",
    "print (\"Final SVM Test Accuracy: \", accuracy)"
   ]
  },
  {
   "cell_type": "code",
   "execution_count": 24,
   "metadata": {},
   "outputs": [
    {
     "data": {
      "text/plain": [
       "array([[119,   6],\n",
       "       [  5,  22]])"
      ]
     },
     "execution_count": 24,
     "metadata": {},
     "output_type": "execute_result"
    }
   ],
   "source": [
    "confusion_matrix(y_test, y_pred)"
   ]
  },
  {
   "cell_type": "code",
   "execution_count": 25,
   "metadata": {},
   "outputs": [
    {
     "name": "stdout",
     "output_type": "stream",
     "text": [
      "######################### Confusion_Matrix #########################\n"
     ]
    },
    {
     "data": {
      "image/png": "[encoded data removed]",
      "text/plain": [
       "<Figure size 288x288 with 2 Axes>"
      ]
     },
     "metadata": {
      "needs_background": "light"
     },
     "output_type": "display_data"
    },
    {
     "name": "stdout",
     "output_type": "stream",
     "text": [
      "######################### Precision #########################\n"
     ]
    },
    {
     "data": {
      "image/png": "[encoded data removed]",
      "text/plain": [
       "<Figure size 288x288 with 2 Axes>"
      ]
     },
     "metadata": {
      "needs_background": "light"
     },
     "output_type": "display_data"
    },
    {
     "name": "stdout",
     "output_type": "stream",
     "text": [
      "######################### Recall #########################\n"
     ]
    },
    {
     "data": {
      "image/png": "[encoded data removed]",
      "text/plain": [
       "<Figure size 288x288 with 2 Axes>"
      ]
     },
     "metadata": {
      "needs_background": "light"
     },
     "output_type": "display_data"
    }
   ],
   "source": [
    "conf_matrix(y_test,y_pred)"
   ]
  },
  {
   "cell_type": "code",
   "execution_count": 26,
   "metadata": {},
   "outputs": [
    {
     "data": {
      "text/plain": [
       "Text(0, 0.5, 'accuracy')"
      ]
     },
     "execution_count": 26,
     "metadata": {},
     "output_type": "execute_result"
    },
    {
     "data": {
      "image/png": "[encoded data removed]",
      "text/plain": [
       "<Figure size 576x432 with 1 Axes>"
      ]
     },
     "metadata": {
      "needs_background": "light"
     },
     "output_type": "display_data"
    }
   ],
   "source": [
    "from sklearn.linear_model import LogisticRegression\n",
    "C = [1, 50, 100, 150, 200, 250, 300, 350, 400]\n",
    "cross_val_accuracy = []\n",
    "trainaccuracy = []\n",
    "testaccuracy = []\n",
    "for c in C:\n",
    "    classifier = LogisticRegression(C=c)\n",
    "    scores = cross_val_score(classifier,X_train,y_train,cv = 5)\n",
    "    cross_val_accuracy.append(np.mean(scores))\n",
    "    classifier.fit(X_train,y_train)\n",
    "    train_fit_y = classifier.predict(X_train)\n",
    "    test_predict_y = classifier.predict(X_test)\n",
    "    trainaccuracy.append(np.mean(train_fit_y==y_train))\n",
    "    testaccuracy.append(np.mean(test_predict_y==y_test))\n",
    "    \n",
    "    \n",
    "plt.figure(figsize=(8,6))\n",
    "plt.plot(C, trainaccuracy, label=\"Training Set\")\n",
    "plt.plot(C, testaccuracy, label=\"Test Set\")\n",
    "plt.legend(loc='upper right', fontsize=14)\n",
    "plt.title('accuracy vs. k parameter', fontsize=14)\n",
    "plt.xlabel('k', fontsize=14)\n",
    "plt.ylabel('accuracy', fontsize=14)\n",
    "\n"
   ]
  },
  {
   "cell_type": "code",
   "execution_count": 27,
   "metadata": {},
   "outputs": [
    {
     "name": "stdout",
     "output_type": "stream",
     "text": [
      "Final Test Accuracy: 0.9276315789473685\n",
      "\n",
      "Classification Report:\n",
      "              precision    recall  f1-score   support\n",
      "\n",
      "           0       0.95      0.96      0.96       125\n",
      "           1       0.81      0.78      0.79        27\n",
      "\n",
      "    accuracy                           0.93       152\n",
      "   macro avg       0.88      0.87      0.87       152\n",
      "weighted avg       0.93      0.93      0.93       152\n",
      "\n",
      "\n",
      "Confusion matrix:\n"
     ]
    },
    {
     "data": {
      "text/plain": [
       "array([[120,   5],\n",
       "       [  6,  21]])"
      ]
     },
     "execution_count": 27,
     "metadata": {},
     "output_type": "execute_result"
    }
   ],
   "source": [
    "clf = LogisticRegression(C=250)\n",
    "clf.fit(X_train,y_train)\n",
    "y_pred = clf.predict(X_test)\n",
    "accuracy = np.mean(y_pred==y_test)\n",
    "print (\"Final Test Accuracy:\", accuracy)\n",
    "print (\"\\nClassification Report:\")\n",
    "print(classification_report(y_test, y_pred))\n",
    "print (\"\\nConfusion matrix:\")\n",
    "confusion_matrix(y_test, y_pred)"
   ]
  },
  {
   "cell_type": "code",
   "execution_count": 28,
   "metadata": {},
   "outputs": [
    {
     "name": "stdout",
     "output_type": "stream",
     "text": [
      "######################### Confusion_Matrix #########################\n"
     ]
    },
    {
     "data": {
      "image/png": "[encoded data removed]",
      "text/plain": [
       "<Figure size 288x288 with 2 Axes>"
      ]
     },
     "metadata": {
      "needs_background": "light"
     },
     "output_type": "display_data"
    },
    {
     "name": "stdout",
     "output_type": "stream",
     "text": [
      "######################### Precision #########################\n"
     ]
    },
    {
     "data": {
      "image/png": "[encoded data removed]",
      "text/plain": [
       "<Figure size 288x288 with 2 Axes>"
      ]
     },
     "metadata": {
      "needs_background": "light"
     },
     "output_type": "display_data"
    },
    {
     "name": "stdout",
     "output_type": "stream",
     "text": [
      "######################### Recall #########################\n"
     ]
    },
    {
     "data": {
      "image/png": "[encoded data removed]",
      "text/plain": [
       "<Figure size 288x288 with 2 Axes>"
      ]
     },
     "metadata": {
      "needs_background": "light"
     },
     "output_type": "display_data"
    }
   ],
   "source": [
    "conf_matrix(y_test,y_pred)"
   ]
  },
  {
   "cell_type": "code",
   "execution_count": 34,
   "metadata": {},
   "outputs": [
    {
     "name": "stdout",
     "output_type": "stream",
     "text": [
      "Final Random Forest Test Accuracy:  0.9144736842105263\n"
     ]
    },
    {
     "data": {
      "image/png": "[encoded data removed]",
      "text/plain": [
       "<Figure size 576x432 with 1 Axes>"
      ]
     },
     "metadata": {
      "needs_background": "light"
     },
     "output_type": "display_data"
    }
   ],
   "source": [
    "Cs = [1,2,3,4,5,6,7,8,9,10]\n",
    "cvAccuracy = []\n",
    "trainaccuracy = []\n",
    "testaccuracy = []\n",
    "\n",
    "\n",
    "\n",
    "for c in Cs:\n",
    "    clf = RandomForestClassifier(n_estimators=c)\n",
    "    scores = cross_val_score(clf, X,y, cv=5)\n",
    "    cvAccuracy.append(np.mean(scores))\n",
    "    clf.fit(X_train,y_train)\n",
    "    y_fitted = clf.predict(X_train)\n",
    "    y_pred = clf.predict(X_test)\n",
    "    trainaccuracy.append(np.mean(y_fitted==y_train))\n",
    "    testaccuracy.append(np.mean(y_pred==y_test))\n",
    "\n",
    "\n",
    "plt.figure(figsize=(8,6))\n",
    "plt.plot(Cs, trainaccuracy, label=\"Training Set\")\n",
    "plt.plot(Cs, testaccuracy, label=\"Test Set\")\n",
    "plt.legend(loc='upper right', fontsize=14)\n",
    "plt.title('Misclassification Rate vs. Trees', fontsize=14)\n",
    "plt.xlabel('C', fontsize=14)\n",
    "plt.ylabel('Misclassification Rate', fontsize=14)\n",
    "\n",
    "# Final Random Forest Classifier\n",
    "clf = RandomForestClassifier(n_estimators=6)\n",
    "clf.fit(X_train,y_train)\n",
    "y_pred = clf.predict(X_test)\n",
    "accuracy = np.mean(y_pred==y_test)\n",
    "print (\"Final Random Forest Test Accuracy: \", accuracy)"
   ]
  },
  {
   "cell_type": "code",
   "execution_count": 35,
   "metadata": {},
   "outputs": [
    {
     "name": "stdout",
     "output_type": "stream",
     "text": [
      "\n",
      "Classification Report:\n",
      "              precision    recall  f1-score   support\n",
      "\n",
      "           0       0.94      0.95      0.95       125\n",
      "           1       0.77      0.74      0.75        27\n",
      "\n",
      "    accuracy                           0.91       152\n",
      "   macro avg       0.86      0.85      0.85       152\n",
      "weighted avg       0.91      0.91      0.91       152\n",
      "\n",
      "\n",
      "Confusion matrix:\n"
     ]
    },
    {
     "data": {
      "text/plain": [
       "array([[119,   6],\n",
       "       [  7,  20]])"
      ]
     },
     "execution_count": 35,
     "metadata": {},
     "output_type": "execute_result"
    }
   ],
   "source": [
    "print (\"\\nClassification Report:\")\n",
    "print(classification_report(y_test, y_pred))\n",
    "print (\"\\nConfusion matrix:\")\n",
    "confusion_matrix(y_test, y_pred)"
   ]
  },
  {
   "cell_type": "code",
   "execution_count": 36,
   "metadata": {},
   "outputs": [
    {
     "name": "stdout",
     "output_type": "stream",
     "text": [
      "######################### Confusion_Matrix #########################\n"
     ]
    },
    {
     "data": {
      "image/png": "[encoded data removed]",
      "text/plain": [
       "<Figure size 288x288 with 2 Axes>"
      ]
     },
     "metadata": {
      "needs_background": "light"
     },
     "output_type": "display_data"
    },
    {
     "name": "stdout",
     "output_type": "stream",
     "text": [
      "######################### Precision #########################\n"
     ]
    },
    {
     "data": {
      "image/png": "[encoded data removed]",
      "text/plain": [
       "<Figure size 288x288 with 2 Axes>"
      ]
     },
     "metadata": {
      "needs_background": "light"
     },
     "output_type": "display_data"
    },
    {
     "name": "stdout",
     "output_type": "stream",
     "text": [
      "######################### Recall #########################\n"
     ]
    },
    {
     "data": {
      "image/png": "[encoded data removed]",
      "text/plain": [
       "<Figure size 288x288 with 2 Axes>"
      ]
     },
     "metadata": {
      "needs_background": "light"
     },
     "output_type": "display_data"
    }
   ],
   "source": [
    "conf_matrix(y_test,y_pred)"
   ]
  },
  {
   "cell_type": "code",
   "execution_count": 37,
   "metadata": {},
   "outputs": [
    {
     "data": {
      "text/plain": [
       "Text(0, 0.5, 'Accuracy')"
      ]
     },
     "execution_count": 37,
     "metadata": {},
     "output_type": "execute_result"
    },
    {
     "data": {
      "image/png": "[encoded data removed]",
      "text/plain": [
       "<Figure size 576x432 with 1 Axes>"
      ]
     },
     "metadata": {
      "needs_background": "light"
     },
     "output_type": "display_data"
    }
   ],
   "source": [
    "from sklearn.ensemble import GradientBoostingClassifier\n",
    "depths = [1, 2, 3, 4, 5]\n",
    "cvAccuracy = []\n",
    "trainaccuracy = []\n",
    "testaccuracy = []\n",
    "\n",
    "for d in depths:\n",
    "    clf = GradientBoostingClassifier(max_depth=d, random_state=0)\n",
    "    scores = cross_val_score(clf, X_train,y_train, cv=5)\n",
    "    cvAccuracy.append(np.mean(scores))\n",
    "    clf.fit(X_train,y_train)\n",
    "    y_fitted = clf.predict(X_train)\n",
    "    y_pred = clf.predict(X_test)\n",
    "    trainaccuracy.append(np.mean(y_fitted==y_train))\n",
    "    testaccuracy.append(np.mean(y_pred==y_test))\n",
    "\n",
    "plt.figure(figsize=(8,6))\n",
    "plt.plot(depths, trainaccuracy, label=\"Training Set\")\n",
    "plt.plot(depths, testaccuracy, label=\"Test Set\")\n",
    "plt.legend(loc='upper right', fontsize=14)\n",
    "plt.title('Accuracy vs. Max Depth', fontsize=14)\n",
    "plt.xlabel('Max depth', fontsize=14)\n",
    "plt.ylabel('Accuracy', fontsize=14)"
   ]
  },
  {
   "cell_type": "code",
   "execution_count": 38,
   "metadata": {},
   "outputs": [
    {
     "name": "stdout",
     "output_type": "stream",
     "text": [
      "Final Test Accuracy: 0.9407894736842105\n",
      "\n",
      "Classification Report:\n",
      "              precision    recall  f1-score   support\n",
      "\n",
      "           0       0.95      0.98      0.96       125\n",
      "           1       0.88      0.78      0.82        27\n",
      "\n",
      "    accuracy                           0.94       152\n",
      "   macro avg       0.91      0.88      0.89       152\n",
      "weighted avg       0.94      0.94      0.94       152\n",
      "\n",
      "\n",
      "Confusion matrix:\n"
     ]
    },
    {
     "data": {
      "text/plain": [
       "array([[122,   3],\n",
       "       [  6,  21]])"
      ]
     },
     "execution_count": 38,
     "metadata": {},
     "output_type": "execute_result"
    }
   ],
   "source": [
    "clf = GradientBoostingClassifier(max_depth=4, random_state=0)\n",
    "clf.fit(X_train,y_train)\n",
    "y_pred = clf.predict(X_test)\n",
    "accuracy = np.mean(y_pred==y_test)\n",
    "print (\"Final Test Accuracy:\", accuracy)\n",
    "print (\"\\nClassification Report:\")\n",
    "print(classification_report(y_test, y_pred))\n",
    "print (\"\\nConfusion matrix:\")\n",
    "confusion_matrix(y_test, y_pred)"
   ]
  },
  {
   "cell_type": "code",
   "execution_count": 39,
   "metadata": {},
   "outputs": [
    {
     "name": "stdout",
     "output_type": "stream",
     "text": [
      "######################### Confusion_Matrix #########################\n"
     ]
    },
    {
     "data": {
      "image/png": "[encoded data removed]",
      "text/plain": [
       "<Figure size 288x288 with 2 Axes>"
      ]
     },
     "metadata": {
      "needs_background": "light"
     },
     "output_type": "display_data"
    },
    {
     "name": "stdout",
     "output_type": "stream",
     "text": [
      "######################### Precision #########################\n"
     ]
    },
    {
     "data": {
      "image/png": "[encoded data removed]",
      "text/plain": [
       "<Figure size 288x288 with 2 Axes>"
      ]
     },
     "metadata": {
      "needs_background": "light"
     },
     "output_type": "display_data"
    },
    {
     "name": "stdout",
     "output_type": "stream",
     "text": [
      "######################### Recall #########################\n"
     ]
    },
    {
     "data": {
      "image/png": "[encoded data removed]",
      "text/plain": [
       "<Figure size 288x288 with 2 Axes>"
      ]
     },
     "metadata": {
      "needs_background": "light"
     },
     "output_type": "display_data"
    }
   ],
   "source": [
    "conf_matrix(y_test,y_pred)"
   ]
  },
  {
   "cell_type": "code",
   "execution_count": null,
   "metadata": {},
   "outputs": [],
   "source": []
  }
 ],
 "metadata": {
  "kernelspec": {
   "display_name": "Python 3",
   "language": "python",
   "name": "python3"
  },
  "language_info": {
   "codemirror_mode": {
    "name": "ipython",
    "version": 3
   },
   "file_extension": ".py",
   "mimetype": "text/x-python",
   "name": "python",
   "nbconvert_exporter": "python",
   "pygments_lexer": "ipython3",
   "version": "3.7.4"
  }
 },
 "nbformat": 4,
 "nbformat_minor": 2
}
